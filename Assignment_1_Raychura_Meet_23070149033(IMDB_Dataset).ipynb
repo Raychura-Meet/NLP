{
  "cells": [
    {
      "cell_type": "markdown",
      "metadata": {
        "id": "AQ8oh7QNCAQs"
      },
      "source": [
        "Importing Libraries"
      ]
    },
    {
      "cell_type": "code",
      "execution_count": 2,
      "metadata": {
        "id": "NyKsF4bECAQt"
      },
      "outputs": [],
      "source": [
        "import pandas as pd\n",
        "import matplotlib.pyplot as plt\n",
        "import seaborn as sns"
      ]
    },
    {
      "cell_type": "code",
      "source": [
        "from google.colab import drive\n",
        "drive.mount('/content/drive')"
      ],
      "metadata": {
        "colab": {
          "base_uri": "https://localhost:8080/"
        },
        "id": "n2hq6llHH1PN",
        "outputId": "42bc7529-4d6a-4507-db87-ff1f4ec0ea86"
      },
      "execution_count": 3,
      "outputs": [
        {
          "output_type": "stream",
          "name": "stdout",
          "text": [
            "Drive already mounted at /content/drive; to attempt to forcibly remount, call drive.mount(\"/content/drive\", force_remount=True).\n"
          ]
        }
      ]
    },
    {
      "cell_type": "code",
      "source": [
        "data=pd.read_csv('/content/drive/MyDrive/NLP /IMDB Dataset.csv')\n",
        "data"
      ],
      "metadata": {
        "colab": {
          "base_uri": "https://localhost:8080/",
          "height": 423
        },
        "id": "DyjD2G-4H9fk",
        "outputId": "7759161d-1b9c-40f2-c03d-1c96afba115c"
      },
      "execution_count": 4,
      "outputs": [
        {
          "output_type": "execute_result",
          "data": {
            "text/plain": [
              "                                                  review sentiment\n",
              "0      One of the other reviewers has mentioned that ...  positive\n",
              "1      A wonderful little production. <br /><br />The...  positive\n",
              "2      I thought this was a wonderful way to spend ti...  positive\n",
              "3      Basically there's a family where a little boy ...  negative\n",
              "4      Petter Mattei's \"Love in the Time of Money\" is...  positive\n",
              "...                                                  ...       ...\n",
              "49995  I thought this movie did a down right good job...  positive\n",
              "49996  Bad plot, bad dialogue, bad acting, idiotic di...  negative\n",
              "49997  I am a Catholic taught in parochial elementary...  negative\n",
              "49998  I'm going to have to disagree with the previou...  negative\n",
              "49999  No one expects the Star Trek movies to be high...  negative\n",
              "\n",
              "[50000 rows x 2 columns]"
            ],
            "text/html": [
              "\n",
              "  <div id=\"df-21a4e95c-a073-4a92-95e2-d2cf8c656b82\" class=\"colab-df-container\">\n",
              "    <div>\n",
              "<style scoped>\n",
              "    .dataframe tbody tr th:only-of-type {\n",
              "        vertical-align: middle;\n",
              "    }\n",
              "\n",
              "    .dataframe tbody tr th {\n",
              "        vertical-align: top;\n",
              "    }\n",
              "\n",
              "    .dataframe thead th {\n",
              "        text-align: right;\n",
              "    }\n",
              "</style>\n",
              "<table border=\"1\" class=\"dataframe\">\n",
              "  <thead>\n",
              "    <tr style=\"text-align: right;\">\n",
              "      <th></th>\n",
              "      <th>review</th>\n",
              "      <th>sentiment</th>\n",
              "    </tr>\n",
              "  </thead>\n",
              "  <tbody>\n",
              "    <tr>\n",
              "      <th>0</th>\n",
              "      <td>One of the other reviewers has mentioned that ...</td>\n",
              "      <td>positive</td>\n",
              "    </tr>\n",
              "    <tr>\n",
              "      <th>1</th>\n",
              "      <td>A wonderful little production. &lt;br /&gt;&lt;br /&gt;The...</td>\n",
              "      <td>positive</td>\n",
              "    </tr>\n",
              "    <tr>\n",
              "      <th>2</th>\n",
              "      <td>I thought this was a wonderful way to spend ti...</td>\n",
              "      <td>positive</td>\n",
              "    </tr>\n",
              "    <tr>\n",
              "      <th>3</th>\n",
              "      <td>Basically there's a family where a little boy ...</td>\n",
              "      <td>negative</td>\n",
              "    </tr>\n",
              "    <tr>\n",
              "      <th>4</th>\n",
              "      <td>Petter Mattei's \"Love in the Time of Money\" is...</td>\n",
              "      <td>positive</td>\n",
              "    </tr>\n",
              "    <tr>\n",
              "      <th>...</th>\n",
              "      <td>...</td>\n",
              "      <td>...</td>\n",
              "    </tr>\n",
              "    <tr>\n",
              "      <th>49995</th>\n",
              "      <td>I thought this movie did a down right good job...</td>\n",
              "      <td>positive</td>\n",
              "    </tr>\n",
              "    <tr>\n",
              "      <th>49996</th>\n",
              "      <td>Bad plot, bad dialogue, bad acting, idiotic di...</td>\n",
              "      <td>negative</td>\n",
              "    </tr>\n",
              "    <tr>\n",
              "      <th>49997</th>\n",
              "      <td>I am a Catholic taught in parochial elementary...</td>\n",
              "      <td>negative</td>\n",
              "    </tr>\n",
              "    <tr>\n",
              "      <th>49998</th>\n",
              "      <td>I'm going to have to disagree with the previou...</td>\n",
              "      <td>negative</td>\n",
              "    </tr>\n",
              "    <tr>\n",
              "      <th>49999</th>\n",
              "      <td>No one expects the Star Trek movies to be high...</td>\n",
              "      <td>negative</td>\n",
              "    </tr>\n",
              "  </tbody>\n",
              "</table>\n",
              "<p>50000 rows × 2 columns</p>\n",
              "</div>\n",
              "    <div class=\"colab-df-buttons\">\n",
              "\n",
              "  <div class=\"colab-df-container\">\n",
              "    <button class=\"colab-df-convert\" onclick=\"convertToInteractive('df-21a4e95c-a073-4a92-95e2-d2cf8c656b82')\"\n",
              "            title=\"Convert this dataframe to an interactive table.\"\n",
              "            style=\"display:none;\">\n",
              "\n",
              "  <svg xmlns=\"http://www.w3.org/2000/svg\" height=\"24px\" viewBox=\"0 -960 960 960\">\n",
              "    <path d=\"M120-120v-720h720v720H120Zm60-500h600v-160H180v160Zm220 220h160v-160H400v160Zm0 220h160v-160H400v160ZM180-400h160v-160H180v160Zm440 0h160v-160H620v160ZM180-180h160v-160H180v160Zm440 0h160v-160H620v160Z\"/>\n",
              "  </svg>\n",
              "    </button>\n",
              "\n",
              "  <style>\n",
              "    .colab-df-container {\n",
              "      display:flex;\n",
              "      gap: 12px;\n",
              "    }\n",
              "\n",
              "    .colab-df-convert {\n",
              "      background-color: #E8F0FE;\n",
              "      border: none;\n",
              "      border-radius: 50%;\n",
              "      cursor: pointer;\n",
              "      display: none;\n",
              "      fill: #1967D2;\n",
              "      height: 32px;\n",
              "      padding: 0 0 0 0;\n",
              "      width: 32px;\n",
              "    }\n",
              "\n",
              "    .colab-df-convert:hover {\n",
              "      background-color: #E2EBFA;\n",
              "      box-shadow: 0px 1px 2px rgba(60, 64, 67, 0.3), 0px 1px 3px 1px rgba(60, 64, 67, 0.15);\n",
              "      fill: #174EA6;\n",
              "    }\n",
              "\n",
              "    .colab-df-buttons div {\n",
              "      margin-bottom: 4px;\n",
              "    }\n",
              "\n",
              "    [theme=dark] .colab-df-convert {\n",
              "      background-color: #3B4455;\n",
              "      fill: #D2E3FC;\n",
              "    }\n",
              "\n",
              "    [theme=dark] .colab-df-convert:hover {\n",
              "      background-color: #434B5C;\n",
              "      box-shadow: 0px 1px 3px 1px rgba(0, 0, 0, 0.15);\n",
              "      filter: drop-shadow(0px 1px 2px rgba(0, 0, 0, 0.3));\n",
              "      fill: #FFFFFF;\n",
              "    }\n",
              "  </style>\n",
              "\n",
              "    <script>\n",
              "      const buttonEl =\n",
              "        document.querySelector('#df-21a4e95c-a073-4a92-95e2-d2cf8c656b82 button.colab-df-convert');\n",
              "      buttonEl.style.display =\n",
              "        google.colab.kernel.accessAllowed ? 'block' : 'none';\n",
              "\n",
              "      async function convertToInteractive(key) {\n",
              "        const element = document.querySelector('#df-21a4e95c-a073-4a92-95e2-d2cf8c656b82');\n",
              "        const dataTable =\n",
              "          await google.colab.kernel.invokeFunction('convertToInteractive',\n",
              "                                                    [key], {});\n",
              "        if (!dataTable) return;\n",
              "\n",
              "        const docLinkHtml = 'Like what you see? Visit the ' +\n",
              "          '<a target=\"_blank\" href=https://colab.research.google.com/notebooks/data_table.ipynb>data table notebook</a>'\n",
              "          + ' to learn more about interactive tables.';\n",
              "        element.innerHTML = '';\n",
              "        dataTable['output_type'] = 'display_data';\n",
              "        await google.colab.output.renderOutput(dataTable, element);\n",
              "        const docLink = document.createElement('div');\n",
              "        docLink.innerHTML = docLinkHtml;\n",
              "        element.appendChild(docLink);\n",
              "      }\n",
              "    </script>\n",
              "  </div>\n",
              "\n",
              "\n",
              "<div id=\"df-01c029b4-0066-449c-8670-e119a38b36cd\">\n",
              "  <button class=\"colab-df-quickchart\" onclick=\"quickchart('df-01c029b4-0066-449c-8670-e119a38b36cd')\"\n",
              "            title=\"Suggest charts\"\n",
              "            style=\"display:none;\">\n",
              "\n",
              "<svg xmlns=\"http://www.w3.org/2000/svg\" height=\"24px\"viewBox=\"0 0 24 24\"\n",
              "     width=\"24px\">\n",
              "    <g>\n",
              "        <path d=\"M19 3H5c-1.1 0-2 .9-2 2v14c0 1.1.9 2 2 2h14c1.1 0 2-.9 2-2V5c0-1.1-.9-2-2-2zM9 17H7v-7h2v7zm4 0h-2V7h2v10zm4 0h-2v-4h2v4z\"/>\n",
              "    </g>\n",
              "</svg>\n",
              "  </button>\n",
              "\n",
              "<style>\n",
              "  .colab-df-quickchart {\n",
              "      --bg-color: #E8F0FE;\n",
              "      --fill-color: #1967D2;\n",
              "      --hover-bg-color: #E2EBFA;\n",
              "      --hover-fill-color: #174EA6;\n",
              "      --disabled-fill-color: #AAA;\n",
              "      --disabled-bg-color: #DDD;\n",
              "  }\n",
              "\n",
              "  [theme=dark] .colab-df-quickchart {\n",
              "      --bg-color: #3B4455;\n",
              "      --fill-color: #D2E3FC;\n",
              "      --hover-bg-color: #434B5C;\n",
              "      --hover-fill-color: #FFFFFF;\n",
              "      --disabled-bg-color: #3B4455;\n",
              "      --disabled-fill-color: #666;\n",
              "  }\n",
              "\n",
              "  .colab-df-quickchart {\n",
              "    background-color: var(--bg-color);\n",
              "    border: none;\n",
              "    border-radius: 50%;\n",
              "    cursor: pointer;\n",
              "    display: none;\n",
              "    fill: var(--fill-color);\n",
              "    height: 32px;\n",
              "    padding: 0;\n",
              "    width: 32px;\n",
              "  }\n",
              "\n",
              "  .colab-df-quickchart:hover {\n",
              "    background-color: var(--hover-bg-color);\n",
              "    box-shadow: 0 1px 2px rgba(60, 64, 67, 0.3), 0 1px 3px 1px rgba(60, 64, 67, 0.15);\n",
              "    fill: var(--button-hover-fill-color);\n",
              "  }\n",
              "\n",
              "  .colab-df-quickchart-complete:disabled,\n",
              "  .colab-df-quickchart-complete:disabled:hover {\n",
              "    background-color: var(--disabled-bg-color);\n",
              "    fill: var(--disabled-fill-color);\n",
              "    box-shadow: none;\n",
              "  }\n",
              "\n",
              "  .colab-df-spinner {\n",
              "    border: 2px solid var(--fill-color);\n",
              "    border-color: transparent;\n",
              "    border-bottom-color: var(--fill-color);\n",
              "    animation:\n",
              "      spin 1s steps(1) infinite;\n",
              "  }\n",
              "\n",
              "  @keyframes spin {\n",
              "    0% {\n",
              "      border-color: transparent;\n",
              "      border-bottom-color: var(--fill-color);\n",
              "      border-left-color: var(--fill-color);\n",
              "    }\n",
              "    20% {\n",
              "      border-color: transparent;\n",
              "      border-left-color: var(--fill-color);\n",
              "      border-top-color: var(--fill-color);\n",
              "    }\n",
              "    30% {\n",
              "      border-color: transparent;\n",
              "      border-left-color: var(--fill-color);\n",
              "      border-top-color: var(--fill-color);\n",
              "      border-right-color: var(--fill-color);\n",
              "    }\n",
              "    40% {\n",
              "      border-color: transparent;\n",
              "      border-right-color: var(--fill-color);\n",
              "      border-top-color: var(--fill-color);\n",
              "    }\n",
              "    60% {\n",
              "      border-color: transparent;\n",
              "      border-right-color: var(--fill-color);\n",
              "    }\n",
              "    80% {\n",
              "      border-color: transparent;\n",
              "      border-right-color: var(--fill-color);\n",
              "      border-bottom-color: var(--fill-color);\n",
              "    }\n",
              "    90% {\n",
              "      border-color: transparent;\n",
              "      border-bottom-color: var(--fill-color);\n",
              "    }\n",
              "  }\n",
              "</style>\n",
              "\n",
              "  <script>\n",
              "    async function quickchart(key) {\n",
              "      const quickchartButtonEl =\n",
              "        document.querySelector('#' + key + ' button');\n",
              "      quickchartButtonEl.disabled = true;  // To prevent multiple clicks.\n",
              "      quickchartButtonEl.classList.add('colab-df-spinner');\n",
              "      try {\n",
              "        const charts = await google.colab.kernel.invokeFunction(\n",
              "            'suggestCharts', [key], {});\n",
              "      } catch (error) {\n",
              "        console.error('Error during call to suggestCharts:', error);\n",
              "      }\n",
              "      quickchartButtonEl.classList.remove('colab-df-spinner');\n",
              "      quickchartButtonEl.classList.add('colab-df-quickchart-complete');\n",
              "    }\n",
              "    (() => {\n",
              "      let quickchartButtonEl =\n",
              "        document.querySelector('#df-01c029b4-0066-449c-8670-e119a38b36cd button');\n",
              "      quickchartButtonEl.style.display =\n",
              "        google.colab.kernel.accessAllowed ? 'block' : 'none';\n",
              "    })();\n",
              "  </script>\n",
              "</div>\n",
              "    </div>\n",
              "  </div>\n"
            ]
          },
          "metadata": {},
          "execution_count": 4
        }
      ]
    },
    {
      "cell_type": "markdown",
      "metadata": {
        "id": "Ft8iufc9CAQu"
      },
      "source": [
        "Data Visualization"
      ]
    },
    {
      "cell_type": "code",
      "execution_count": 5,
      "metadata": {
        "colab": {
          "base_uri": "https://localhost:8080/"
        },
        "id": "H953U0XXCAQu",
        "outputId": "2f8e3dc0-9a45-4c51-96f0-88a8c1ba29ed"
      },
      "outputs": [
        {
          "output_type": "execute_result",
          "data": {
            "text/plain": [
              "Index(['review', 'sentiment'], dtype='object')"
            ]
          },
          "metadata": {},
          "execution_count": 5
        }
      ],
      "source": [
        "data.columns"
      ]
    },
    {
      "cell_type": "code",
      "execution_count": 6,
      "metadata": {
        "colab": {
          "base_uri": "https://localhost:8080/"
        },
        "id": "rSZNJCAcCAQv",
        "outputId": "c84cdda9-e9e5-4b82-c385-967b2b4318fc"
      },
      "outputs": [
        {
          "output_type": "execute_result",
          "data": {
            "text/plain": [
              "0"
            ]
          },
          "metadata": {},
          "execution_count": 6
        }
      ],
      "source": [
        "data['review'].isnull().sum()"
      ]
    },
    {
      "cell_type": "code",
      "execution_count": 7,
      "metadata": {
        "colab": {
          "base_uri": "https://localhost:8080/"
        },
        "id": "M7gt-As7CAQv",
        "outputId": "455d832a-9023-4151-def0-4f45ce99def1"
      },
      "outputs": [
        {
          "output_type": "execute_result",
          "data": {
            "text/plain": [
              "0"
            ]
          },
          "metadata": {},
          "execution_count": 7
        }
      ],
      "source": [
        "data['sentiment'].isnull().sum()"
      ]
    },
    {
      "cell_type": "code",
      "execution_count": 8,
      "metadata": {
        "colab": {
          "base_uri": "https://localhost:8080/"
        },
        "id": "VeUJCmQ0CAQv",
        "outputId": "46cf4806-7b2a-441e-92b7-ba46bc0f6158"
      },
      "outputs": [
        {
          "output_type": "execute_result",
          "data": {
            "text/plain": [
              "Loved today's show!!! It was a variety and not solely cooking (which would have been great too). Very stimulating and captivating, always keeping the viewer peeking around the corner to see what was coming up next. She is as down to earth and as personable as you get, like one of us which made the show all the more enjoyable. Special guests, who are friends as well made for a nice surprise too. Loved the 'first' theme and that the audience was invited to play along too. I must admit I was shocked to see her come in under her time limits on a few things, but she did it and by golly I'll be writing those recipes down. Saving time in the kitchen means more time with family. Those who haven't tuned in yet, find out what channel and the time, I assure you that you won't be disappointed.                                                                                                                                                                                                                                                                                                                                                                                                                                                                                                                                                                                                                                                                                                                                                                                                                                                                                                                                                        5\n",
              "Hilarious, clean, light-hearted, and quote-worthy. What else can you ask for in a film? This is my all-time, number one favorite movie. Ever since I was a little girl, I've dreamed of owning a blue van with flames and an observation bubble.<br /><br />The cliché characters in ridiculous situations are what make this film such great fun. The wonderful comedic chemistry between Stephen Furst (Harold) and Andy Tennant (Melio) make up most of my favorite parts of the movie. And who didn't love the hopeless awkwardness of Flynch? Don't forget the airport antics of Leon's cronies, dressed up as Hari Krishnas: dancing, chanting and playing the tambourine--unbeatable! The clues are genius, the locations are classic, and the plot is timeless.<br /><br />A word to the wise, if you didn't watch this film when you were little, it probably won't win a place in your heart today. But nevertheless give it a chance, you may find that \"It doesn't matter what you say, it doesn't matter what you do, you've gotta play.\"                                                                                                                                                                                                                                                                                                                                                                                                                                                                                                                                                                                                                                                                                                                          4\n",
              "How has this piece of crap stayed on TV this long? It's terrible. It makes me want to shoot someone. It's so fake that it is actually worse than a 1940s sci-fi movie. I'd rather have a stroke than watch this nonsense. I remember watching it when it first came out. I thought, hey this could be interesting, then I found out how absolutely, insanely, ridiculously stupid it really was. It was so bad that I actually took out my pocket knife and stuck my hand to the table.<br /><br />Please people, stop watching this and all other reality shows, they're the trash that is jamming the networks and canceling quality programming that requires some thought to create.                                                                                                                                                                                                                                                                                                                                                                                                                                                                                                                                                                                                                                                                                                                                                                                                                                                                                                                                                                                                                                                                                        3\n",
              "Nickelodeon has gone down the toilet. They have kids saying things like \"Oh my God!\" and \"We're screwed\"<br /><br />This show promotes hate for people who aren't good looking, or aren't in the in crowd. It say that sexual promiscuity is alright, by having girls slobbering over shirtless boys. Not to mention the overweight boy who takes off his shirt. The main characters basically shun anyone out of the ordinary. Carly's friend Sam, who may be a lesbian, beats the snot out of anybody that crosses her path, which says it's alright to be a b**ch. This show has so much negativity in it that nobody should watch it! I give it a 0 out of 10!!!                                                                                                                                                                                                                                                                                                                                                                                                                                                                                                                                                                                                                                                                                                                                                                                                                                                                                                                                                                                                                                                                                                            3\n",
              "You do realize that you've been watching the EXACT SAME SHOW for eight years, right? I could understand the initial curiosity of seeing strangers co-exist on an Island, but you'd think that after watching unkempt, stink-ladened heroes run roughshod through the bush with an egg on a spoon for half a decade would be enough to get you to commit to something a little more original (and interesting).<br /><br />And I'm not even speaking of the shows validity which for the record I find questionable. It's just hard to suspend disbelief for \"Bushy Bill\" eating a rat when the entire crew of producers and camera people are housed in an air conditioned make-shift bio-dome sipping frosty mochcinno's with moxy.<br /><br />What's the appeal here? I don't care about these people or their meandering lives. I just don't get it. But if you DO find yourself being captivated by hairy, unwashed people, I suggest you turn off your TV and just take a trip to your local bus station where you can see people like this in their TRUE habitat. They call them HOMELESS PEOPLE, and free of charge, you can sit back and marvel in their uncanny ability to retrieve various cigarette debris from a plethora of garbage canisters, eventually striking \"pay-dirt\" and fashioning a homemade Dr. Frankenstein-styled cancer-stick, all the while begging people for change for food when the stink of \"Aqua Velva\" on their breath is enough to suggest otherwise. And the best part? Much like Survivor, every week one member of the tribe \"Leaves\" the \"Island\" when they are unceremoniously sent packing to the local Institution when the frightening unmedicated state of full-blown schizophrenia kicks into gear! Now THAT'S ENTERTAINMENT!    3\n",
              "                                                                                                                                                                                                                                                                                                                                                                                                                                                                                                                                                                                                                                                                                                                                                                                                                                                                                                                                                                                                                                                                                                                                                                                                                                                                                                                                                                                                                                                                                                                                                                                                                                                                                                                                                                               ..\n",
              "REVOLT OF THE ZOMBIES (2 outta 5 stars) No, this is not a long-lost ancestor to the classic George A. Romero zombie flicks. This is a low-budget potboiler from 1936 that probably seemed very cool to audiences of the time... but seems awfully routine these days. There is actually a pretty good scene at the start of a soldier firing off his pistol into a horde of approaching zombie soldiers... and a close-up of bullets entering the bare chest of one of them. The effect looks hopelessly fake these days but in 1936 I'm sure it had audiences gasping. The story concerns the search for the secret of mind control... ostensibly to create an unstoppable zombie army... but later as a means for one character to win the woman he loves. The movie is barely an hour long but moves at a snail's pace so it seems feature-length, believe me! There really isn't much to recommend it... you may get some amusement from the faked studio shots of the star \"wading\" through a \"swamp\". The ending is interesting... so I'd say the movie is worth seeing at least once. More than likely you will see it as an extra feature on some cheap \"4 movies on 1 DVD\" compilation at Wal-Mart for five bucks. Hey, it's well worth the money...                                                                                                                                                                                                                                                                                                                                                                                                                                                                                                                   1\n",
              "At least among those movies with 100 votes or more. Nominated for best screenplay written directly for the screen? Brenda Blethyn nominated for best actress in a leading role?? Nominated for best picture?? I always disagree with many of the Oscar picks, but this movie might very well be the worst movie of all time to be honored by the Academy. The writing and acting were both horrible. Blethyn's perfomance in particular was one of the worst I've ever seen, and probably the most over-rated acting performance of all time. Awful movie, not worthy of the big screen and not worthy of any cable or television channel that has ever played it, including HBO(where I saw it). I am only thankful I didn't actually pay to see one of the most over-rated movies of all time.                                                                                                                                                                                                                                                                                                                                                                                                                                                                                                                                                                                                                                                                                                                                                                                                                                                                                                                                                                                1\n",
              "I rented this movie under the impression that it was \"Scarecrow 3:Dark Harvest\", thinking it was a continuation in the Scarecrow Slayer series (another extremely laughable and all together awful series of movies). I wasn't disappointed though. It was just as awful, if not worse, than what I expected. I was laughing throughout the entire movie. Every piece of bad acting, poorly shot and cut footage, and terrible special effects is what makes this movie worth renting.<br /><br />The special features include a pathetic view into the cast and crew's six months of filming.<br /><br />Favorite line, \"The sins of my forefathers! They've trickled down to this very moment of time!\"                                                                                                                                                                                                                                                                                                                                                                                                                                                                                                                                                                                                                                                                                                                                                                                                                                                                                                                                                                                                                                                                       1\n",
              "Surreal film noir released soon after the \"real,\" genre-defining classics \"The Maltese Falcon,\" \"Double Indemnity\" and \"The Postman Always Rings Twice.\" Welles films shouldn't be evaluated against others. He was playing by different rules. In fact, he was playing. This starts where other femme fatale films leave off, so the vaguely logical (but interesting) whodunit is embellished with a display of Wellesian scenes (typical rapid-fire style), dialog (lots of \"hard-boiled\" philosophy), and unusual acting (good Hayworth presumably intentionally one-dimensional). To Welles \"genre\" may have meant \"formula\" but he seemed to like using \"mysteries\" as backgrounds for his \"entertainments.\"                                                                                                                                                                                                                                                                                                                                                                                                                                                                                                                                                                                                                                                                                                                                                                                                                                                                                                                                                                                                                                                              1\n",
              "No one expects the Star Trek movies to be high art, but the fans do expect a movie that is as good as some of the best episodes. Unfortunately, this movie had a muddled, implausible plot that just left me cringing - this is by far the worst of the nine (so far) movies. Even the chance to watch the well known characters interact in another movie can't save this movie - including the goofy scenes with Kirk, Spock and McCoy at Yosemite.<br /><br />I would say this movie is not worth a rental, and hardly worth watching, however for the True Fan who needs to see all the movies, renting this movie is about the only way you'll see it - even the cable channels avoid this movie.                                                                                                                                                                                                                                                                                                                                                                                                                                                                                                                                                                                                                                                                                                                                                                                                                                                                                                                                                                                                                                                                          1\n",
              "Name: review, Length: 49582, dtype: int64"
            ]
          },
          "metadata": {},
          "execution_count": 8
        }
      ],
      "source": [
        "data['review'].value_counts()"
      ]
    },
    {
      "cell_type": "code",
      "execution_count": 9,
      "metadata": {
        "colab": {
          "base_uri": "https://localhost:8080/",
          "height": 494
        },
        "id": "eI2Nn0lKCAQw",
        "outputId": "675c34e5-beea-4393-d03d-9da42571069a"
      },
      "outputs": [
        {
          "output_type": "execute_result",
          "data": {
            "text/plain": [
              "<Axes: >"
            ]
          },
          "metadata": {},
          "execution_count": 9
        },
        {
          "output_type": "display_data",
          "data": {
            "text/plain": [
              "<Figure size 640x480 with 1 Axes>"
            ],
            "image/png": "[encoded data removed]"
          },
          "metadata": {}
        }
      ],
      "source": [
        "data['sentiment'].value_counts().plot(kind='bar')"
      ]
    },
    {
      "cell_type": "markdown",
      "metadata": {
        "id": "Fe6WdvnFCAQw"
      },
      "source": [
        "Text Preprocessing"
      ]
    },
    {
      "cell_type": "code",
      "execution_count": 10,
      "metadata": {
        "colab": {
          "base_uri": "https://localhost:8080/"
        },
        "id": "v6QCEPp7CAQw",
        "outputId": "f515d2b4-9836-47c1-91c2-88d7e9d99565"
      },
      "outputs": [
        {
          "output_type": "stream",
          "name": "stderr",
          "text": [
            "[nltk_data] Downloading package stopwords to /root/nltk_data...\n",
            "[nltk_data]   Package stopwords is already up-to-date!\n",
            "[nltk_data] Downloading package punkt to /root/nltk_data...\n",
            "[nltk_data]   Package punkt is already up-to-date!\n",
            "[nltk_data] Downloading package wordnet to /root/nltk_data...\n",
            "[nltk_data]   Package wordnet is already up-to-date!\n"
          ]
        }
      ],
      "source": [
        "import nltk\n",
        "from nltk.tokenize import word_tokenize\n",
        "from nltk.tokenize import sent_tokenize\n",
        "from nltk.stem import WordNetLemmatizer\n",
        "nltk.download('stopwords')\n",
        "nltk.download('punkt')\n",
        "nltk.download('wordnet')\n",
        "from nltk.corpus import stopwords"
      ]
    },
    {
      "cell_type": "markdown",
      "metadata": {
        "id": "P9qAq0R-CAQw"
      },
      "source": [
        "Data Cleansing:"
      ]
    },
    {
      "cell_type": "code",
      "execution_count": 11,
      "metadata": {
        "id": "QBTPL0-FCAQw"
      },
      "outputs": [],
      "source": [
        "import re\n",
        "import string\n",
        "\n",
        "def clean_text(text ):\n",
        "    text =''.join(word for word in text if word not in string.punctuation)\n",
        "    text1 = ''.join(w.lower() for w in text if not w.isdigit())\n",
        "    return text1"
      ]
    },
    {
      "cell_type": "markdown",
      "metadata": {
        "id": "mIrwMI6LCAQw"
      },
      "source": [
        "Tokenization, Lemmatization"
      ]
    },
    {
      "cell_type": "code",
      "execution_count": 12,
      "metadata": {
        "id": "z227U2euCAQw"
      },
      "outputs": [],
      "source": [
        "# Lemmatization of text data\n",
        "def lemmatize_text(text):\n",
        "    wordlist = []\n",
        "    lemmatizer = WordNetLemmatizer()\n",
        "    # Sentence tokenization\n",
        "    sentences = nltk.sent_tokenize(str(text))\n",
        "\n",
        "    intial_sentences = sentences[0:1]\n",
        "    final_sentences = sentences[len(sentences)-2: len(sentences)-1]\n",
        "\n",
        "    # Word tokenization\n",
        "    for sentence in intial_sentences:\n",
        "        words = nltk.word_tokenize(sentence)\n",
        "        for word in words:\n",
        "            wordlist.append(word)\n",
        "\n",
        "    for sentence in final_sentences:\n",
        "        words = nltk.word_tokenize(sentence)\n",
        "        for word in words:\n",
        "            wordlist.append(word)\n",
        "\n",
        "    return wordlist"
      ]
    },
    {
      "cell_type": "markdown",
      "metadata": {
        "id": "Vkl-LpyOCAQx"
      },
      "source": [
        "Applying Functions on train data"
      ]
    },
    {
      "cell_type": "code",
      "execution_count": 13,
      "metadata": {
        "id": "QvuX6JE3CAQx"
      },
      "outputs": [],
      "source": [
        "# Apply the functions on sentiment column\n",
        "\n",
        "# Clean\n",
        "data['sentiment'] = data['sentiment'].apply(lambda x: clean_text(x))\n",
        "# Lemmatize\n",
        "data['sentiment'] = data['sentiment'].apply(lambda x: lemmatize_text(x))"
      ]
    },
    {
      "cell_type": "code",
      "execution_count": 14,
      "metadata": {
        "id": "LhKVzYeGCAQx"
      },
      "outputs": [],
      "source": [
        "# Apply the functions on review column\n",
        "\n",
        "# Clean\n",
        "data['review'] = data['review'].apply(lambda x: clean_text(x))\n",
        "# Lemmatize\n",
        "data['review'] = data['review'].apply(lambda x: lemmatize_text(x))"
      ]
    },
    {
      "cell_type": "code",
      "execution_count": 15,
      "metadata": {
        "colab": {
          "base_uri": "https://localhost:8080/",
          "height": 423
        },
        "id": "7Hneq8oVCAQx",
        "outputId": "251b92d3-fb20-4a09-995f-0cf5bf7003df"
      },
      "outputs": [
        {
          "output_type": "execute_result",
          "data": {
            "text/plain": [
              "                                                  review   sentiment\n",
              "0      [one, of, the, other, reviewers, has, mentione...  [positive]\n",
              "1      [a, wonderful, little, production, br, br, the...  [positive]\n",
              "2      [i, thought, this, was, a, wonderful, way, to,...  [positive]\n",
              "3      [basically, theres, a, family, where, a, littl...  [negative]\n",
              "4      [petter, matteis, love, in, the, time, of, mon...  [positive]\n",
              "...                                                  ...         ...\n",
              "49995  [i, thought, this, movie, did, a, down, right,...  [positive]\n",
              "49996  [bad, plot, bad, dialogue, bad, acting, idioti...  [negative]\n",
              "49997  [i, am, a, catholic, taught, in, parochial, el...  [negative]\n",
              "49998  [im, going, to, have, to, disagree, with, the,...  [negative]\n",
              "49999  [no, one, expects, the, star, trek, movies, to...  [negative]\n",
              "\n",
              "[50000 rows x 2 columns]"
            ],
            "text/html": [
              "\n",
              "  <div id=\"df-c1cb8552-1cbe-48cd-8b90-ff64cdbf84ce\" class=\"colab-df-container\">\n",
              "    <div>\n",
              "<style scoped>\n",
              "    .dataframe tbody tr th:only-of-type {\n",
              "        vertical-align: middle;\n",
              "    }\n",
              "\n",
              "    .dataframe tbody tr th {\n",
              "        vertical-align: top;\n",
              "    }\n",
              "\n",
              "    .dataframe thead th {\n",
              "        text-align: right;\n",
              "    }\n",
              "</style>\n",
              "<table border=\"1\" class=\"dataframe\">\n",
              "  <thead>\n",
              "    <tr style=\"text-align: right;\">\n",
              "      <th></th>\n",
              "      <th>review</th>\n",
              "      <th>sentiment</th>\n",
              "    </tr>\n",
              "  </thead>\n",
              "  <tbody>\n",
              "    <tr>\n",
              "      <th>0</th>\n",
              "      <td>[one, of, the, other, reviewers, has, mentione...</td>\n",
              "      <td>[positive]</td>\n",
              "    </tr>\n",
              "    <tr>\n",
              "      <th>1</th>\n",
              "      <td>[a, wonderful, little, production, br, br, the...</td>\n",
              "      <td>[positive]</td>\n",
              "    </tr>\n",
              "    <tr>\n",
              "      <th>2</th>\n",
              "      <td>[i, thought, this, was, a, wonderful, way, to,...</td>\n",
              "      <td>[positive]</td>\n",
              "    </tr>\n",
              "    <tr>\n",
              "      <th>3</th>\n",
              "      <td>[basically, theres, a, family, where, a, littl...</td>\n",
              "      <td>[negative]</td>\n",
              "    </tr>\n",
              "    <tr>\n",
              "      <th>4</th>\n",
              "      <td>[petter, matteis, love, in, the, time, of, mon...</td>\n",
              "      <td>[positive]</td>\n",
              "    </tr>\n",
              "    <tr>\n",
              "      <th>...</th>\n",
              "      <td>...</td>\n",
              "      <td>...</td>\n",
              "    </tr>\n",
              "    <tr>\n",
              "      <th>49995</th>\n",
              "      <td>[i, thought, this, movie, did, a, down, right,...</td>\n",
              "      <td>[positive]</td>\n",
              "    </tr>\n",
              "    <tr>\n",
              "      <th>49996</th>\n",
              "      <td>[bad, plot, bad, dialogue, bad, acting, idioti...</td>\n",
              "      <td>[negative]</td>\n",
              "    </tr>\n",
              "    <tr>\n",
              "      <th>49997</th>\n",
              "      <td>[i, am, a, catholic, taught, in, parochial, el...</td>\n",
              "      <td>[negative]</td>\n",
              "    </tr>\n",
              "    <tr>\n",
              "      <th>49998</th>\n",
              "      <td>[im, going, to, have, to, disagree, with, the,...</td>\n",
              "      <td>[negative]</td>\n",
              "    </tr>\n",
              "    <tr>\n",
              "      <th>49999</th>\n",
              "      <td>[no, one, expects, the, star, trek, movies, to...</td>\n",
              "      <td>[negative]</td>\n",
              "    </tr>\n",
              "  </tbody>\n",
              "</table>\n",
              "<p>50000 rows × 2 columns</p>\n",
              "</div>\n",
              "    <div class=\"colab-df-buttons\">\n",
              "\n",
              "  <div class=\"colab-df-container\">\n",
              "    <button class=\"colab-df-convert\" onclick=\"convertToInteractive('df-c1cb8552-1cbe-48cd-8b90-ff64cdbf84ce')\"\n",
              "            title=\"Convert this dataframe to an interactive table.\"\n",
              "            style=\"display:none;\">\n",
              "\n",
              "  <svg xmlns=\"http://www.w3.org/2000/svg\" height=\"24px\" viewBox=\"0 -960 960 960\">\n",
              "    <path d=\"M120-120v-720h720v720H120Zm60-500h600v-160H180v160Zm220 220h160v-160H400v160Zm0 220h160v-160H400v160ZM180-400h160v-160H180v160Zm440 0h160v-160H620v160ZM180-180h160v-160H180v160Zm440 0h160v-160H620v160Z\"/>\n",
              "  </svg>\n",
              "    </button>\n",
              "\n",
              "  <style>\n",
              "    .colab-df-container {\n",
              "      display:flex;\n",
              "      gap: 12px;\n",
              "    }\n",
              "\n",
              "    .colab-df-convert {\n",
              "      background-color: #E8F0FE;\n",
              "      border: none;\n",
              "      border-radius: 50%;\n",
              "      cursor: pointer;\n",
              "      display: none;\n",
              "      fill: #1967D2;\n",
              "      height: 32px;\n",
              "      padding: 0 0 0 0;\n",
              "      width: 32px;\n",
              "    }\n",
              "\n",
              "    .colab-df-convert:hover {\n",
              "      background-color: #E2EBFA;\n",
              "      box-shadow: 0px 1px 2px rgba(60, 64, 67, 0.3), 0px 1px 3px 1px rgba(60, 64, 67, 0.15);\n",
              "      fill: #174EA6;\n",
              "    }\n",
              "\n",
              "    .colab-df-buttons div {\n",
              "      margin-bottom: 4px;\n",
              "    }\n",
              "\n",
              "    [theme=dark] .colab-df-convert {\n",
              "      background-color: #3B4455;\n",
              "      fill: #D2E3FC;\n",
              "    }\n",
              "\n",
              "    [theme=dark] .colab-df-convert:hover {\n",
              "      background-color: #434B5C;\n",
              "      box-shadow: 0px 1px 3px 1px rgba(0, 0, 0, 0.15);\n",
              "      filter: drop-shadow(0px 1px 2px rgba(0, 0, 0, 0.3));\n",
              "      fill: #FFFFFF;\n",
              "    }\n",
              "  </style>\n",
              "\n",
              "    <script>\n",
              "      const buttonEl =\n",
              "        document.querySelector('#df-c1cb8552-1cbe-48cd-8b90-ff64cdbf84ce button.colab-df-convert');\n",
              "      buttonEl.style.display =\n",
              "        google.colab.kernel.accessAllowed ? 'block' : 'none';\n",
              "\n",
              "      async function convertToInteractive(key) {\n",
              "        const element = document.querySelector('#df-c1cb8552-1cbe-48cd-8b90-ff64cdbf84ce');\n",
              "        const dataTable =\n",
              "          await google.colab.kernel.invokeFunction('convertToInteractive',\n",
              "                                                    [key], {});\n",
              "        if (!dataTable) return;\n",
              "\n",
              "        const docLinkHtml = 'Like what you see? Visit the ' +\n",
              "          '<a target=\"_blank\" href=https://colab.research.google.com/notebooks/data_table.ipynb>data table notebook</a>'\n",
              "          + ' to learn more about interactive tables.';\n",
              "        element.innerHTML = '';\n",
              "        dataTable['output_type'] = 'display_data';\n",
              "        await google.colab.output.renderOutput(dataTable, element);\n",
              "        const docLink = document.createElement('div');\n",
              "        docLink.innerHTML = docLinkHtml;\n",
              "        element.appendChild(docLink);\n",
              "      }\n",
              "    </script>\n",
              "  </div>\n",
              "\n",
              "\n",
              "<div id=\"df-a4e38a32-12b5-4a4d-ba98-e70a7b5a8150\">\n",
              "  <button class=\"colab-df-quickchart\" onclick=\"quickchart('df-a4e38a32-12b5-4a4d-ba98-e70a7b5a8150')\"\n",
              "            title=\"Suggest charts\"\n",
              "            style=\"display:none;\">\n",
              "\n",
              "<svg xmlns=\"http://www.w3.org/2000/svg\" height=\"24px\"viewBox=\"0 0 24 24\"\n",
              "     width=\"24px\">\n",
              "    <g>\n",
              "        <path d=\"M19 3H5c-1.1 0-2 .9-2 2v14c0 1.1.9 2 2 2h14c1.1 0 2-.9 2-2V5c0-1.1-.9-2-2-2zM9 17H7v-7h2v7zm4 0h-2V7h2v10zm4 0h-2v-4h2v4z\"/>\n",
              "    </g>\n",
              "</svg>\n",
              "  </button>\n",
              "\n",
              "<style>\n",
              "  .colab-df-quickchart {\n",
              "      --bg-color: #E8F0FE;\n",
              "      --fill-color: #1967D2;\n",
              "      --hover-bg-color: #E2EBFA;\n",
              "      --hover-fill-color: #174EA6;\n",
              "      --disabled-fill-color: #AAA;\n",
              "      --disabled-bg-color: #DDD;\n",
              "  }\n",
              "\n",
              "  [theme=dark] .colab-df-quickchart {\n",
              "      --bg-color: #3B4455;\n",
              "      --fill-color: #D2E3FC;\n",
              "      --hover-bg-color: #434B5C;\n",
              "      --hover-fill-color: #FFFFFF;\n",
              "      --disabled-bg-color: #3B4455;\n",
              "      --disabled-fill-color: #666;\n",
              "  }\n",
              "\n",
              "  .colab-df-quickchart {\n",
              "    background-color: var(--bg-color);\n",
              "    border: none;\n",
              "    border-radius: 50%;\n",
              "    cursor: pointer;\n",
              "    display: none;\n",
              "    fill: var(--fill-color);\n",
              "    height: 32px;\n",
              "    padding: 0;\n",
              "    width: 32px;\n",
              "  }\n",
              "\n",
              "  .colab-df-quickchart:hover {\n",
              "    background-color: var(--hover-bg-color);\n",
              "    box-shadow: 0 1px 2px rgba(60, 64, 67, 0.3), 0 1px 3px 1px rgba(60, 64, 67, 0.15);\n",
              "    fill: var(--button-hover-fill-color);\n",
              "  }\n",
              "\n",
              "  .colab-df-quickchart-complete:disabled,\n",
              "  .colab-df-quickchart-complete:disabled:hover {\n",
              "    background-color: var(--disabled-bg-color);\n",
              "    fill: var(--disabled-fill-color);\n",
              "    box-shadow: none;\n",
              "  }\n",
              "\n",
              "  .colab-df-spinner {\n",
              "    border: 2px solid var(--fill-color);\n",
              "    border-color: transparent;\n",
              "    border-bottom-color: var(--fill-color);\n",
              "    animation:\n",
              "      spin 1s steps(1) infinite;\n",
              "  }\n",
              "\n",
              "  @keyframes spin {\n",
              "    0% {\n",
              "      border-color: transparent;\n",
              "      border-bottom-color: var(--fill-color);\n",
              "      border-left-color: var(--fill-color);\n",
              "    }\n",
              "    20% {\n",
              "      border-color: transparent;\n",
              "      border-left-color: var(--fill-color);\n",
              "      border-top-color: var(--fill-color);\n",
              "    }\n",
              "    30% {\n",
              "      border-color: transparent;\n",
              "      border-left-color: var(--fill-color);\n",
              "      border-top-color: var(--fill-color);\n",
              "      border-right-color: var(--fill-color);\n",
              "    }\n",
              "    40% {\n",
              "      border-color: transparent;\n",
              "      border-right-color: var(--fill-color);\n",
              "      border-top-color: var(--fill-color);\n",
              "    }\n",
              "    60% {\n",
              "      border-color: transparent;\n",
              "      border-right-color: var(--fill-color);\n",
              "    }\n",
              "    80% {\n",
              "      border-color: transparent;\n",
              "      border-right-color: var(--fill-color);\n",
              "      border-bottom-color: var(--fill-color);\n",
              "    }\n",
              "    90% {\n",
              "      border-color: transparent;\n",
              "      border-bottom-color: var(--fill-color);\n",
              "    }\n",
              "  }\n",
              "</style>\n",
              "\n",
              "  <script>\n",
              "    async function quickchart(key) {\n",
              "      const quickchartButtonEl =\n",
              "        document.querySelector('#' + key + ' button');\n",
              "      quickchartButtonEl.disabled = true;  // To prevent multiple clicks.\n",
              "      quickchartButtonEl.classList.add('colab-df-spinner');\n",
              "      try {\n",
              "        const charts = await google.colab.kernel.invokeFunction(\n",
              "            'suggestCharts', [key], {});\n",
              "      } catch (error) {\n",
              "        console.error('Error during call to suggestCharts:', error);\n",
              "      }\n",
              "      quickchartButtonEl.classList.remove('colab-df-spinner');\n",
              "      quickchartButtonEl.classList.add('colab-df-quickchart-complete');\n",
              "    }\n",
              "    (() => {\n",
              "      let quickchartButtonEl =\n",
              "        document.querySelector('#df-a4e38a32-12b5-4a4d-ba98-e70a7b5a8150 button');\n",
              "      quickchartButtonEl.style.display =\n",
              "        google.colab.kernel.accessAllowed ? 'block' : 'none';\n",
              "    })();\n",
              "  </script>\n",
              "</div>\n",
              "    </div>\n",
              "  </div>\n"
            ]
          },
          "metadata": {},
          "execution_count": 15
        }
      ],
      "source": [
        "data"
      ]
    },
    {
      "cell_type": "code",
      "source": [
        "import pandas as pd\n",
        "from sklearn.preprocessing import LabelEncoder\n",
        "\n",
        "# Display the original DataFrame\n",
        "print(\"Original DataFrame:\")\n",
        "print(data)\n",
        "\n",
        "# Convert lists in the 'sentiment' column to strings\n",
        "data['sentiment'] = data['sentiment'].apply(lambda x: ', '.join(x) if isinstance(x, list) else x)\n",
        "\n",
        "# Initialize LabelEncoder\n",
        "label_encoder = LabelEncoder()\n",
        "\n",
        "# Fit label encoder and transform sentiment column\n",
        "data['encoded_sentiment'] = label_encoder.fit_transform(data['sentiment'])\n",
        "\n",
        "# Display the DataFrame with the encoded sentiment column\n",
        "print(\"\\nDataFrame with Encoded Sentiment:\")\n",
        "print(data)"
      ],
      "metadata": {
        "colab": {
          "base_uri": "https://localhost:8080/"
        },
        "id": "tMdsgGIrREyy",
        "outputId": "24652e7d-da42-4350-d3c5-cff03b8cb9d3"
      },
      "execution_count": 16,
      "outputs": [
        {
          "output_type": "stream",
          "name": "stdout",
          "text": [
            "Original DataFrame:\n",
            "                                                  review   sentiment\n",
            "0      [one, of, the, other, reviewers, has, mentione...  [positive]\n",
            "1      [a, wonderful, little, production, br, br, the...  [positive]\n",
            "2      [i, thought, this, was, a, wonderful, way, to,...  [positive]\n",
            "3      [basically, theres, a, family, where, a, littl...  [negative]\n",
            "4      [petter, matteis, love, in, the, time, of, mon...  [positive]\n",
            "...                                                  ...         ...\n",
            "49995  [i, thought, this, movie, did, a, down, right,...  [positive]\n",
            "49996  [bad, plot, bad, dialogue, bad, acting, idioti...  [negative]\n",
            "49997  [i, am, a, catholic, taught, in, parochial, el...  [negative]\n",
            "49998  [im, going, to, have, to, disagree, with, the,...  [negative]\n",
            "49999  [no, one, expects, the, star, trek, movies, to...  [negative]\n",
            "\n",
            "[50000 rows x 2 columns]\n",
            "\n",
            "DataFrame with Encoded Sentiment:\n",
            "                                                  review sentiment  \\\n",
            "0      [one, of, the, other, reviewers, has, mentione...  positive   \n",
            "1      [a, wonderful, little, production, br, br, the...  positive   \n",
            "2      [i, thought, this, was, a, wonderful, way, to,...  positive   \n",
            "3      [basically, theres, a, family, where, a, littl...  negative   \n",
            "4      [petter, matteis, love, in, the, time, of, mon...  positive   \n",
            "...                                                  ...       ...   \n",
            "49995  [i, thought, this, movie, did, a, down, right,...  positive   \n",
            "49996  [bad, plot, bad, dialogue, bad, acting, idioti...  negative   \n",
            "49997  [i, am, a, catholic, taught, in, parochial, el...  negative   \n",
            "49998  [im, going, to, have, to, disagree, with, the,...  negative   \n",
            "49999  [no, one, expects, the, star, trek, movies, to...  negative   \n",
            "\n",
            "       encoded_sentiment  \n",
            "0                      1  \n",
            "1                      1  \n",
            "2                      1  \n",
            "3                      0  \n",
            "4                      1  \n",
            "...                  ...  \n",
            "49995                  1  \n",
            "49996                  0  \n",
            "49997                  0  \n",
            "49998                  0  \n",
            "49999                  0  \n",
            "\n",
            "[50000 rows x 3 columns]\n"
          ]
        }
      ]
    },
    {
      "cell_type": "markdown",
      "metadata": {
        "id": "Mmha7ae5CAQx"
      },
      "source": [
        "Vectorization"
      ]
    },
    {
      "cell_type": "markdown",
      "metadata": {
        "id": "3MQCyYU8CAQx"
      },
      "source": [
        "Count Vectorizer"
      ]
    },
    {
      "cell_type": "code",
      "execution_count": 17,
      "metadata": {
        "colab": {
          "base_uri": "https://localhost:8080/"
        },
        "id": "wBTcKljbCAQx",
        "outputId": "5be57ad4-cfc7-483a-b70e-7f2edd33a66a"
      },
      "outputs": [
        {
          "output_type": "stream",
          "name": "stdout",
          "text": [
            "['abandoned' 'abc' 'abilities' ... 'zombie' 'zombies' 'zone']\n"
          ]
        }
      ],
      "source": [
        "from sklearn.feature_extraction.text import CountVectorizer\n",
        "import pandas as pd\n",
        "import nltk\n",
        "\n",
        "data['review'] = data['review'].apply(lambda x: ' '.join(map(str, x)))\n",
        "data['Combined_Text'] = data['review']\n",
        "\n",
        "vectorizer = CountVectorizer(analyzer='word', stop_words='english',\n",
        "                             ngram_range=(1, 3), max_df=0.75,\n",
        "                             min_df=5, max_features=5000)\n",
        "\n",
        "countMat = vectorizer.fit_transform(data['Combined_Text'])\n",
        "\n",
        "feature_names = vectorizer.get_feature_names_out()\n",
        "print(feature_names)\n"
      ]
    },
    {
      "cell_type": "code",
      "execution_count": 18,
      "metadata": {
        "colab": {
          "base_uri": "https://localhost:8080/"
        },
        "id": "lgNivPbqCAQy",
        "outputId": "8ac478bf-57ce-4979-ca8b-424e883cc7fb"
      },
      "outputs": [
        {
          "output_type": "execute_result",
          "data": {
            "text/plain": [
              "5000"
            ]
          },
          "metadata": {},
          "execution_count": 18
        }
      ],
      "source": [
        "len(feature_names)"
      ]
    },
    {
      "cell_type": "code",
      "execution_count": 19,
      "metadata": {
        "colab": {
          "base_uri": "https://localhost:8080/"
        },
        "id": "38GCheUVCAQy",
        "outputId": "0bb32f2a-fe92-47ba-a4dd-899578ea7ef4"
      },
      "outputs": [
        {
          "output_type": "stream",
          "name": "stdout",
          "text": [
            "  (0, 3700)\t1\n",
            "  (0, 2815)\t1\n",
            "  (0, 4814)\t2\n",
            "  (0, 2411)\t2\n",
            "  (0, 3188)\t5\n",
            "  (0, 1435)\t2\n",
            "  (0, 4981)\t1\n",
            "  (0, 2136)\t1\n",
            "  (0, 3714)\t2\n",
            "  (0, 1472)\t1\n",
            "  (0, 2008)\t1\n",
            "  (0, 2792)\t1\n",
            "  (0, 454)\t3\n",
            "  (0, 4456)\t1\n",
            "  (0, 4247)\t2\n",
            "  (0, 3832)\t1\n",
            "  (0, 4741)\t4\n",
            "  (0, 3924)\t1\n",
            "  (0, 4910)\t1\n",
            "  (0, 4606)\t1\n",
            "  (0, 3485)\t1\n",
            "  (0, 1313)\t1\n",
            "  (0, 3932)\t1\n",
            "  (0, 2018)\t1\n",
            "  (0, 787)\t1\n",
            "  :\t:\n",
            "  (49999, 702)\t1\n",
            "  (49999, 3805)\t1\n",
            "  (49999, 2482)\t1\n",
            "  (49999, 4660)\t1\n",
            "  (49999, 2545)\t1\n",
            "  (49999, 1494)\t1\n",
            "  (49999, 260)\t1\n",
            "  (49999, 2020)\t1\n",
            "  (49999, 3042)\t1\n",
            "  (49999, 2249)\t1\n",
            "  (49999, 2230)\t1\n",
            "  (49999, 1566)\t1\n",
            "  (49999, 211)\t1\n",
            "  (49999, 2972)\t1\n",
            "  (49999, 4587)\t1\n",
            "  (49999, 2470)\t1\n",
            "  (49999, 4158)\t1\n",
            "  (49999, 3656)\t1\n",
            "  (49999, 2934)\t1\n",
            "  (49999, 1436)\t1\n",
            "  (49999, 610)\t1\n",
            "  (49999, 2970)\t1\n",
            "  (49999, 709)\t1\n",
            "  (49999, 1913)\t1\n",
            "  (49999, 3654)\t1\n"
          ]
        }
      ],
      "source": [
        "print(countMat)"
      ]
    },
    {
      "cell_type": "markdown",
      "metadata": {
        "id": "LJEf2jg-CAQy"
      },
      "source": [
        "Splitting up the dataset"
      ]
    },
    {
      "cell_type": "code",
      "execution_count": 20,
      "metadata": {
        "id": "ju1YQkOBCAQy"
      },
      "outputs": [],
      "source": [
        "from sklearn.model_selection import train_test_split\n",
        "X_train,X_test,y_train,y_test=train_test_split(countMat,\n",
        "                                                    data['encoded_sentiment'],\n",
        "                                                    stratify=data['encoded_sentiment'],\n",
        "                                                    random_state=1)"
      ]
    },
    {
      "cell_type": "code",
      "execution_count": 21,
      "metadata": {
        "colab": {
          "base_uri": "https://localhost:8080/"
        },
        "id": "2VznzOzVCAQy",
        "outputId": "1bafad7a-0763-4c36-ac20-4016ab7eea8e"
      },
      "outputs": [
        {
          "output_type": "stream",
          "name": "stdout",
          "text": [
            "Train_Set_Size:(37500, 5000)\n",
            "Test_Set_Size:(12500, 5000)\n",
            "Train_Set_Size:(37500,)\n",
            "Test_Set_Size:(12500,)\n"
          ]
        }
      ],
      "source": [
        "print('Train_Set_Size:'+str(X_train.shape))\n",
        "print('Test_Set_Size:'+str(X_test.shape))\n",
        "print('Train_Set_Size:'+str(y_train.shape))\n",
        "print('Test_Set_Size:'+str(y_test.shape))"
      ]
    },
    {
      "cell_type": "markdown",
      "metadata": {
        "id": "MhE0dso_CAQy"
      },
      "source": [
        "Logistic Regression with CountVectorizer"
      ]
    },
    {
      "cell_type": "code",
      "execution_count": 22,
      "metadata": {
        "id": "Ku44wIoUCAQy"
      },
      "outputs": [],
      "source": [
        "from sklearn.linear_model import LogisticRegression\n",
        "\n",
        "logistic = LogisticRegression(random_state=10,max_iter=10000)\n",
        "\n",
        "best_model=logistic.fit(X_train, y_train)\n",
        "\n",
        "y_pred = best_model.predict(X_test)\n"
      ]
    },
    {
      "cell_type": "code",
      "source": [
        "y_train"
      ],
      "metadata": {
        "colab": {
          "base_uri": "https://localhost:8080/"
        },
        "id": "y3eHClQROakj",
        "outputId": "67be8e63-63d1-476d-e786-372e3f08f2d7"
      },
      "execution_count": 23,
      "outputs": [
        {
          "output_type": "execute_result",
          "data": {
            "text/plain": [
              "8730     1\n",
              "44839    1\n",
              "24467    1\n",
              "12294    1\n",
              "18881    0\n",
              "        ..\n",
              "11545    0\n",
              "29698    1\n",
              "37596    0\n",
              "36958    0\n",
              "19759    0\n",
              "Name: encoded_sentiment, Length: 37500, dtype: int64"
            ]
          },
          "metadata": {},
          "execution_count": 23
        }
      ]
    },
    {
      "cell_type": "code",
      "source": [
        "from sklearn.preprocessing import LabelBinarizer\n",
        "\n",
        "# Convert the target variable to binary array format\n",
        "label_binarizer = LabelBinarizer()\n",
        "y_train_binary = label_binarizer.fit_transform(y_train)\n",
        "\n",
        "# Train the logistic regression model with the converted target variable\n",
        "best_model = logistic.fit(X_train, y_train_binary)\n",
        "\n",
        "# Make predictions with the trained model\n",
        "y_pred = best_model.predict(X_test)\n"
      ],
      "metadata": {
        "colab": {
          "base_uri": "https://localhost:8080/"
        },
        "id": "SOrWIPCKNnTx",
        "outputId": "de9eb691-31e6-42ee-e7c7-054c36a9b59c"
      },
      "execution_count": 24,
      "outputs": [
        {
          "output_type": "stream",
          "name": "stderr",
          "text": [
            "/usr/local/lib/python3.10/dist-packages/sklearn/utils/validation.py:1143: DataConversionWarning: A column-vector y was passed when a 1d array was expected. Please change the shape of y to (n_samples, ), for example using ravel().\n",
            "  y = column_or_1d(y, warn=True)\n"
          ]
        }
      ]
    },
    {
      "cell_type": "code",
      "execution_count": 25,
      "metadata": {
        "id": "Bg2xW8T_CAQz"
      },
      "outputs": [],
      "source": [
        "algorithm=[]\n",
        "precision=[]\n",
        "recall=[]\n",
        "accuracys=[]"
      ]
    },
    {
      "cell_type": "code",
      "execution_count": 26,
      "metadata": {
        "colab": {
          "base_uri": "https://localhost:8080/"
        },
        "id": "0acvo8edCAQz",
        "outputId": "a3a58f58-599e-469e-b803-79d7878c31a5"
      },
      "outputs": [
        {
          "output_type": "stream",
          "name": "stdout",
          "text": [
            "              precision    recall  f1-score   support\n",
            "\n",
            "           0       0.87      0.87      0.87      6250\n",
            "           1       0.87      0.87      0.87      6250\n",
            "\n",
            "    accuracy                           0.87     12500\n",
            "   macro avg       0.87      0.87      0.87     12500\n",
            "weighted avg       0.87      0.87      0.87     12500\n",
            "\n"
          ]
        }
      ],
      "source": [
        "from sklearn.metrics import classification_report,confusion_matrix\n",
        "cm=confusion_matrix(y_test,y_pred)\n",
        "print(classification_report(y_test,y_pred,zero_division=0))"
      ]
    },
    {
      "cell_type": "code",
      "execution_count": 27,
      "metadata": {
        "id": "2GHMpuEGCAQz"
      },
      "outputs": [],
      "source": [
        "from sklearn.metrics import precision_score,recall_score,accuracy_score\n",
        "algorithm.append(\"Logistic Regression with CountVectorizer\")\n",
        "precision.append(precision_score(y_test,y_pred,zero_division=0,average='macro'))\n",
        "recall.append(recall_score(y_test,y_pred,zero_division=0,average='macro'))\n",
        "accuracys.append(accuracy_score(y_test,y_pred))"
      ]
    },
    {
      "cell_type": "markdown",
      "metadata": {
        "id": "LUxgcoHnCAQz"
      },
      "source": [
        "SVM with CountVectorizer"
      ]
    },
    {
      "cell_type": "code",
      "execution_count": 28,
      "metadata": {
        "colab": {
          "base_uri": "https://localhost:8080/"
        },
        "id": "wSaMfTscCAQz",
        "outputId": "e01c4a50-0f87-4559-a012-f5541cb29923"
      },
      "outputs": [
        {
          "output_type": "stream",
          "name": "stderr",
          "text": [
            "/usr/local/lib/python3.10/dist-packages/sklearn/svm/_base.py:299: ConvergenceWarning: Solver terminated early (max_iter=5000).  Consider pre-processing your data with StandardScaler or MinMaxScaler.\n",
            "  warnings.warn(\n"
          ]
        },
        {
          "output_type": "stream",
          "name": "stdout",
          "text": [
            "Accuracy: 0.84944\n"
          ]
        }
      ],
      "source": [
        "from sklearn import svm\n",
        "from sklearn.metrics import accuracy_score\n",
        "# Create an SVM classifier\n",
        "clf = svm.SVC(max_iter=5000)\n",
        "\n",
        "# Train the classifier\n",
        "clf.fit(X_train, y_train)\n",
        "\n",
        "# Make predictions on the test set\n",
        "y_pred = clf.predict(X_test)\n",
        "\n",
        "# Evaluate the accuracy\n",
        "accuracy = accuracy_score(y_test, y_pred)\n",
        "print(f\"Accuracy: {accuracy}\")"
      ]
    },
    {
      "cell_type": "code",
      "execution_count": 29,
      "metadata": {
        "colab": {
          "base_uri": "https://localhost:8080/"
        },
        "id": "oToJzL6cCAQz",
        "outputId": "188a1690-dc62-4b63-9581-4dca60d4fe07"
      },
      "outputs": [
        {
          "output_type": "stream",
          "name": "stdout",
          "text": [
            "              precision    recall  f1-score   support\n",
            "\n",
            "           0       0.90      0.79      0.84      6250\n",
            "           1       0.81      0.91      0.86      6250\n",
            "\n",
            "    accuracy                           0.85     12500\n",
            "   macro avg       0.86      0.85      0.85     12500\n",
            "weighted avg       0.86      0.85      0.85     12500\n",
            "\n"
          ]
        }
      ],
      "source": [
        "cm=confusion_matrix(y_test,y_pred)\n",
        "print(classification_report(y_test,y_pred,zero_division=0))\n",
        "from sklearn.metrics import precision_score,recall_score,accuracy_score\n",
        "algorithm.append(\"SVM with CountVectorizer\")\n",
        "precision.append(precision_score(y_test,y_pred,zero_division=0,average='macro'))\n",
        "recall.append(recall_score(y_test,y_pred,zero_division=0,average='macro'))"
      ]
    },
    {
      "cell_type": "code",
      "execution_count": 30,
      "metadata": {
        "id": "xR78DJk7PtGC"
      },
      "outputs": [],
      "source": [
        "accuracys.append(accuracy_score(y_test,y_pred))"
      ]
    },
    {
      "cell_type": "markdown",
      "metadata": {
        "id": "xvoCUP0sCAQz"
      },
      "source": [
        "Random Forest with Count Vectorizer"
      ]
    },
    {
      "cell_type": "code",
      "execution_count": 31,
      "metadata": {
        "colab": {
          "base_uri": "https://localhost:8080/"
        },
        "id": "wANlV8tpCAQz",
        "outputId": "3b1c3712-3c71-4d45-e4e7-d411c61de77a"
      },
      "outputs": [
        {
          "output_type": "stream",
          "name": "stdout",
          "text": [
            "Random Forest Accuracy: 0.83872\n"
          ]
        }
      ],
      "source": [
        "from sklearn.ensemble import RandomForestClassifier\n",
        "# Create a Random Forest classifier\n",
        "clf = RandomForestClassifier(n_estimators=50,random_state=100)\n",
        "# Train the classifier\n",
        "clf.fit(X_train, y_train)\n",
        "\n",
        "# Make predictions on the test set\n",
        "y_pred = clf.predict(X_test)\n",
        "\n",
        "# Evaluate the accuracy\n",
        "accuracy = accuracy_score(y_test, y_pred)\n",
        "print(f\"Random Forest Accuracy: {accuracy}\")"
      ]
    },
    {
      "cell_type": "code",
      "execution_count": 32,
      "metadata": {
        "colab": {
          "base_uri": "https://localhost:8080/"
        },
        "id": "TMtETc2RCAQ3",
        "outputId": "b650e339-08f9-4dc6-813c-368a2bf36498"
      },
      "outputs": [
        {
          "output_type": "stream",
          "name": "stdout",
          "text": [
            "              precision    recall  f1-score   support\n",
            "\n",
            "           0       0.83      0.85      0.84      6250\n",
            "           1       0.85      0.82      0.84      6250\n",
            "\n",
            "    accuracy                           0.84     12500\n",
            "   macro avg       0.84      0.84      0.84     12500\n",
            "weighted avg       0.84      0.84      0.84     12500\n",
            "\n"
          ]
        }
      ],
      "source": [
        "cm=confusion_matrix(y_test,y_pred)\n",
        "print(classification_report(y_test,y_pred,zero_division=0))\n",
        "from sklearn.metrics import precision_score,recall_score,accuracy_score\n",
        "algorithm.append(\"Random Forest with CountVectorizer\")\n",
        "precision.append(precision_score(y_test,y_pred,zero_division=0,average='macro'))\n",
        "recall.append(recall_score(y_test,y_pred,zero_division=0,average='macro'))\n",
        "accuracys.append(accuracy_score(y_test,y_pred))"
      ]
    },
    {
      "cell_type": "markdown",
      "metadata": {
        "id": "TTKoUwv7CAQ5"
      },
      "source": [
        "TFIDF"
      ]
    },
    {
      "cell_type": "code",
      "source": [
        "import nltk\n",
        "from nltk.tokenize import word_tokenize\n",
        "from nltk.tokenize import sent_tokenize\n",
        "from nltk.stem import WordNetLemmatizer\n",
        "nltk.download('stopwords')\n",
        "nltk.download('punkt')\n",
        "nltk.download('wordnet')\n",
        "from nltk.corpus import stopwords\n",
        "import pandas as pd\n",
        "import matplotlib.pyplot as plt\n",
        "import seaborn as sns"
      ],
      "metadata": {
        "colab": {
          "base_uri": "https://localhost:8080/"
        },
        "id": "5lw1Mhn-RBwc",
        "outputId": "3ec3e773-6d9e-488f-aa21-e995a3dc03f9"
      },
      "execution_count": 33,
      "outputs": [
        {
          "output_type": "stream",
          "name": "stderr",
          "text": [
            "[nltk_data] Downloading package stopwords to /root/nltk_data...\n",
            "[nltk_data]   Package stopwords is already up-to-date!\n",
            "[nltk_data] Downloading package punkt to /root/nltk_data...\n",
            "[nltk_data]   Package punkt is already up-to-date!\n",
            "[nltk_data] Downloading package wordnet to /root/nltk_data...\n",
            "[nltk_data]   Package wordnet is already up-to-date!\n"
          ]
        }
      ]
    },
    {
      "cell_type": "code",
      "source": [
        "data=pd.read_csv('/content/drive/MyDrive/NLP /IMDB Dataset.csv')\n",
        "data\n",
        "import re\n",
        "import string\n",
        "\n",
        "def clean_text(text ):\n",
        "    text =''.join(word for word in text if word not in string.punctuation)\n",
        "    text1 = ''.join(w.lower() for w in text if not w.isdigit())\n",
        "    return text1\n",
        "# Lemmatization of text data\n",
        "def lemmatize_text(text):\n",
        "    wordlist = []\n",
        "    lemmatizer = WordNetLemmatizer()\n",
        "    # Sentence tokenization\n",
        "    sentences = nltk.sent_tokenize(str(text))\n",
        "\n",
        "    intial_sentences = sentences[0:1]\n",
        "    final_sentences = sentences[len(sentences)-2: len(sentences)-1]\n",
        "\n",
        "    # Word tokenization\n",
        "    for sentence in intial_sentences:\n",
        "        words = nltk.word_tokenize(sentence)\n",
        "        for word in words:\n",
        "            wordlist.append(word)\n",
        "\n",
        "    for sentence in final_sentences:\n",
        "        words = nltk.word_tokenize(sentence)\n",
        "        for word in words:\n",
        "            wordlist.append(word)\n",
        "\n",
        "    return wordlist\n",
        "# Apply the functions on review column\n",
        "\n",
        "# Clean\n",
        "data['review'] = data['review'].apply(lambda x: clean_text(x))\n",
        "# Lemmatize\n",
        "data['review'] = data['review'].apply(lambda x: lemmatize_text(x))\n",
        "# Apply the functions on sentiment column\n",
        "\n",
        "# Clean\n",
        "data['sentiment'] = data['sentiment'].apply(lambda x: clean_text(x))\n",
        "# Lemmatize\n",
        "data['sentiment'] = data['sentiment'].apply(lambda x: lemmatize_text(x))"
      ],
      "metadata": {
        "id": "szcxmqiQ3NP_"
      },
      "execution_count": 40,
      "outputs": []
    },
    {
      "cell_type": "code",
      "execution_count": 41,
      "metadata": {
        "id": "LwMOoZwVCAQ6"
      },
      "outputs": [],
      "source": [
        "from sklearn.feature_extraction.text import TfidfVectorizer\n",
        "from sklearn.decomposition import PCA\n",
        "from sklearn.linear_model import LogisticRegression\n",
        "from sklearn.model_selection import train_test_split\n",
        "\n",
        "from sklearn.metrics import confusion_matrix\n",
        "from sklearn.metrics import classification_report"
      ]
    },
    {
      "cell_type": "code",
      "execution_count": 42,
      "metadata": {
        "id": "5FJUPj7cCAQ7",
        "colab": {
          "base_uri": "https://localhost:8080/"
        },
        "outputId": "d3837550-d244-4915-a961-3e9216177f36"
      },
      "outputs": [
        {
          "output_type": "stream",
          "name": "stdout",
          "text": [
            "['abandoned' 'abc' 'abilities' ... 'zombie' 'zombies' 'zone']\n"
          ]
        }
      ],
      "source": [
        "from sklearn.feature_extraction.text import TfidfVectorizer\n",
        "import pandas as pd\n",
        "import nltk\n",
        "\n",
        "\n",
        "data['review'] = data['review'].apply(lambda x: ' '.join(map(str, x)))\n",
        "data['Combined_Text1'] = data['review']\n",
        "# Text to TFIDF values\n",
        "vectorizer = TfidfVectorizer(analyzer='word', stop_words='english',\n",
        "                             ngram_range=(1,3), max_df=0.75,\n",
        "                             min_df=5, use_idf=True,\n",
        "                             smooth_idf=True, max_features=5000)\n",
        "\n",
        "# Fit and transform on the combined text\n",
        "tfIdfMat = vectorizer.fit_transform(data['Combined_Text1'])\n",
        "\n",
        "# Feature names\n",
        "feature_names = vectorizer.get_feature_names_out()\n",
        "print(feature_names)\n"
      ]
    },
    {
      "cell_type": "code",
      "execution_count": 43,
      "metadata": {
        "colab": {
          "base_uri": "https://localhost:8080/"
        },
        "id": "FQeIuMmYCAQ7",
        "outputId": "08e8b56c-ce65-4d27-f49e-be0e46794a22"
      },
      "outputs": [
        {
          "output_type": "execute_result",
          "data": {
            "text/plain": [
              "5000"
            ]
          },
          "metadata": {},
          "execution_count": 43
        }
      ],
      "source": [
        "len(feature_names)"
      ]
    },
    {
      "cell_type": "code",
      "execution_count": 44,
      "metadata": {
        "id": "cU8xOiCICAQ7",
        "colab": {
          "base_uri": "https://localhost:8080/"
        },
        "outputId": "48af58e5-e595-4b6c-eb96-81a32410a53a"
      },
      "outputs": [
        {
          "output_type": "stream",
          "name": "stdout",
          "text": [
            "  (0, 511)\t0.08915032257964077\n",
            "  (0, 521)\t0.08600438749779415\n",
            "  (0, 2793)\t0.08806345571798982\n",
            "  (0, 1050)\t0.09998221511589796\n",
            "  (0, 4549)\t0.07809979105329941\n",
            "  (0, 4645)\t0.09640464749780754\n",
            "  (0, 843)\t0.09867154527163984\n",
            "  (0, 1499)\t0.06565637493188445\n",
            "  (0, 4028)\t0.08778616346706392\n",
            "  (0, 4234)\t0.07504351116669428\n",
            "  (0, 2492)\t0.06569707106249624\n",
            "  (0, 4615)\t0.067484208384694\n",
            "  (0, 785)\t0.07241979959991716\n",
            "  (0, 2833)\t0.06985571543871076\n",
            "  (0, 264)\t0.05190738735456339\n",
            "  (0, 3158)\t0.06742024965631035\n",
            "  (0, 2456)\t0.06490296230323382\n",
            "  (0, 4065)\t0.09464303615554158\n",
            "  (0, 1932)\t0.08874281723428885\n",
            "  (0, 2565)\t0.08881610921636494\n",
            "  (0, 1918)\t0.04775045061300565\n",
            "  (0, 4378)\t0.07902266523557237\n",
            "  (0, 1137)\t0.08152608019558166\n",
            "  (0, 4810)\t0.05427542239798109\n",
            "  (0, 3555)\t0.0824198644270797\n",
            "  :\t:\n",
            "  (49999, 702)\t0.12314943361085598\n",
            "  (49999, 3815)\t0.16444451856732462\n",
            "  (49999, 4603)\t0.10346500359536763\n",
            "  (49999, 1564)\t0.10679138350234642\n",
            "  (49999, 4157)\t0.11155487328483579\n",
            "  (49999, 2976)\t0.21781158252814273\n",
            "  (49999, 4929)\t0.09890962714433224\n",
            "  (49999, 1887)\t0.057417392911830116\n",
            "  (49999, 355)\t0.0766115305550666\n",
            "  (49999, 4804)\t0.07331386984291981\n",
            "  (49999, 2912)\t0.30497441238376827\n",
            "  (49999, 716)\t0.07388979400501318\n",
            "  (49999, 3329)\t0.07627412522463149\n",
            "  (49999, 4821)\t0.07130729814996781\n",
            "  (49999, 4939)\t0.14871601681516713\n",
            "  (49999, 4935)\t0.19974410843317295\n",
            "  (49999, 511)\t0.16719552888859152\n",
            "  (49999, 3813)\t0.07943989793417162\n",
            "  (49999, 1569)\t0.19133597021849771\n",
            "  (49999, 2081)\t0.10734107043027355\n",
            "  (49999, 3832)\t0.08264753942214095\n",
            "  (49999, 454)\t0.04428261253931685\n",
            "  (49999, 4981)\t0.11761587628989087\n",
            "  (49999, 2411)\t0.053954326373329864\n",
            "  (49999, 4814)\t0.08349701388466585\n"
          ]
        }
      ],
      "source": [
        "print(tfIdfMat)"
      ]
    },
    {
      "cell_type": "code",
      "source": [
        "import pandas as pd\n",
        "from sklearn.preprocessing import LabelEncoder\n",
        "\n",
        "# Display the original DataFrame\n",
        "print(\"Original DataFrame:\")\n",
        "print(data)\n",
        "\n",
        "# Convert lists in the 'sentiment' column to strings\n",
        "data['sentiment'] = data['sentiment'].apply(lambda x: ', '.join(x) if isinstance(x, list) else x)\n",
        "\n",
        "# Initialize LabelEncoder\n",
        "label_encoder = LabelEncoder()\n",
        "\n",
        "# Fit label encoder and transform sentiment column\n",
        "data['encoded_sentiment'] = label_encoder.fit_transform(data['sentiment'])\n",
        "\n",
        "# Display the DataFrame with the encoded sentiment column\n",
        "print(\"\\nDataFrame with Encoded Sentiment:\")\n",
        "print(data)"
      ],
      "metadata": {
        "colab": {
          "base_uri": "https://localhost:8080/"
        },
        "id": "iyffo2DuoTfZ",
        "outputId": "eb04aee4-3f7c-499f-de4a-cf18967ba8b2"
      },
      "execution_count": 46,
      "outputs": [
        {
          "output_type": "stream",
          "name": "stdout",
          "text": [
            "Original DataFrame:\n",
            "                                                  review   sentiment  \\\n",
            "0      one of the other reviewers has mentioned that ...  [positive]   \n",
            "1      a wonderful little production br br the filmin...  [positive]   \n",
            "2      i thought this was a wonderful way to spend ti...  [positive]   \n",
            "3      basically theres a family where a little boy j...  [negative]   \n",
            "4      petter matteis love in the time of money is a ...  [positive]   \n",
            "...                                                  ...         ...   \n",
            "49995  i thought this movie did a down right good job...  [positive]   \n",
            "49996  bad plot bad dialogue bad acting idiotic direc...  [negative]   \n",
            "49997  i am a catholic taught in parochial elementary...  [negative]   \n",
            "49998  im going to have to disagree with the previous...  [negative]   \n",
            "49999  no one expects the star trek movies to be high...  [negative]   \n",
            "\n",
            "                                          Combined_Text1  \n",
            "0      one of the other reviewers has mentioned that ...  \n",
            "1      a wonderful little production br br the filmin...  \n",
            "2      i thought this was a wonderful way to spend ti...  \n",
            "3      basically theres a family where a little boy j...  \n",
            "4      petter matteis love in the time of money is a ...  \n",
            "...                                                  ...  \n",
            "49995  i thought this movie did a down right good job...  \n",
            "49996  bad plot bad dialogue bad acting idiotic direc...  \n",
            "49997  i am a catholic taught in parochial elementary...  \n",
            "49998  im going to have to disagree with the previous...  \n",
            "49999  no one expects the star trek movies to be high...  \n",
            "\n",
            "[50000 rows x 3 columns]\n",
            "\n",
            "DataFrame with Encoded Sentiment:\n",
            "                                                  review sentiment  \\\n",
            "0      one of the other reviewers has mentioned that ...  positive   \n",
            "1      a wonderful little production br br the filmin...  positive   \n",
            "2      i thought this was a wonderful way to spend ti...  positive   \n",
            "3      basically theres a family where a little boy j...  negative   \n",
            "4      petter matteis love in the time of money is a ...  positive   \n",
            "...                                                  ...       ...   \n",
            "49995  i thought this movie did a down right good job...  positive   \n",
            "49996  bad plot bad dialogue bad acting idiotic direc...  negative   \n",
            "49997  i am a catholic taught in parochial elementary...  negative   \n",
            "49998  im going to have to disagree with the previous...  negative   \n",
            "49999  no one expects the star trek movies to be high...  negative   \n",
            "\n",
            "                                          Combined_Text1  encoded_sentiment  \n",
            "0      one of the other reviewers has mentioned that ...                  1  \n",
            "1      a wonderful little production br br the filmin...                  1  \n",
            "2      i thought this was a wonderful way to spend ti...                  1  \n",
            "3      basically theres a family where a little boy j...                  0  \n",
            "4      petter matteis love in the time of money is a ...                  1  \n",
            "...                                                  ...                ...  \n",
            "49995  i thought this movie did a down right good job...                  1  \n",
            "49996  bad plot bad dialogue bad acting idiotic direc...                  0  \n",
            "49997  i am a catholic taught in parochial elementary...                  0  \n",
            "49998  im going to have to disagree with the previous...                  0  \n",
            "49999  no one expects the star trek movies to be high...                  0  \n",
            "\n",
            "[50000 rows x 4 columns]\n"
          ]
        }
      ]
    },
    {
      "cell_type": "code",
      "execution_count": 47,
      "metadata": {
        "id": "U7RDxuT-CAQ7"
      },
      "outputs": [],
      "source": [
        "# Train-test split of the reduced data\n",
        "X_train, X_test, y_train, y_test = train_test_split(tfIdfMat,\n",
        "                                                    data['encoded_sentiment'],\n",
        "                                                    stratify=data['encoded_sentiment'],\n",
        "                                                    random_state=1)"
      ]
    },
    {
      "cell_type": "code",
      "execution_count": 48,
      "metadata": {
        "id": "SHMyOVYPCAQ7",
        "colab": {
          "base_uri": "https://localhost:8080/"
        },
        "outputId": "26f61b17-7679-44d4-a612-566aaffda182"
      },
      "outputs": [
        {
          "output_type": "stream",
          "name": "stdout",
          "text": [
            "Train_Set_Size:(37500, 5000)\n",
            "Test_Set_Size:(12500, 5000)\n",
            "Train_Set_Size:(37500,)\n",
            "Test_Set_Size:(12500,)\n"
          ]
        }
      ],
      "source": [
        "print('Train_Set_Size:'+str(X_train.shape))\n",
        "print('Test_Set_Size:'+str(X_test.shape))\n",
        "print('Train_Set_Size:'+str(y_train.shape))\n",
        "print('Test_Set_Size:'+str(y_test.shape))"
      ]
    },
    {
      "cell_type": "markdown",
      "metadata": {
        "id": "EQRzq_PwCAQ8"
      },
      "source": [
        "Logistic Regression with TFIDF"
      ]
    },
    {
      "cell_type": "code",
      "execution_count": 50,
      "metadata": {
        "id": "5Oes237FCAQ8"
      },
      "outputs": [],
      "source": [
        "# Classifier\n",
        "clf = LogisticRegression(penalty= 'elasticnet', solver= 'saga',\n",
        "                         l1_ratio=0.5, random_state=1).fit(X_train,y_train)\n",
        "\n",
        "y_pred = clf.predict(X_test)"
      ]
    },
    {
      "cell_type": "code",
      "execution_count": 51,
      "metadata": {
        "id": "4gYXzZiRCAQ8",
        "colab": {
          "base_uri": "https://localhost:8080/"
        },
        "outputId": "97690142-25d0-4747-ed69-545777918119"
      },
      "outputs": [
        {
          "output_type": "stream",
          "name": "stdout",
          "text": [
            "              precision    recall  f1-score   support\n",
            "\n",
            "           0       0.89      0.88      0.89      6250\n",
            "           1       0.88      0.89      0.89      6250\n",
            "\n",
            "    accuracy                           0.89     12500\n",
            "   macro avg       0.89      0.89      0.89     12500\n",
            "weighted avg       0.89      0.89      0.89     12500\n",
            "\n",
            "              precision    recall  f1-score   support\n",
            "\n",
            "           0       0.89      0.88      0.89      6250\n",
            "           1       0.88      0.89      0.89      6250\n",
            "\n",
            "    accuracy                           0.89     12500\n",
            "   macro avg       0.89      0.89      0.89     12500\n",
            "weighted avg       0.89      0.89      0.89     12500\n",
            "\n"
          ]
        }
      ],
      "source": [
        "# Performance measure\n",
        "from sklearn.metrics import confusion_matrix,classification_report\n",
        "\n",
        "cm = confusion_matrix(y_test,y_pred)\n",
        "\n",
        "print(classification_report(y_test, y_pred,zero_division=0))\n",
        "cm=confusion_matrix(y_test,y_pred)\n",
        "print(classification_report(y_test,y_pred,zero_division=0))\n",
        "from sklearn.metrics import precision_score,recall_score,accuracy_score\n",
        "algorithm.append(\"Logistic Regression with TFIDF\")\n",
        "precision.append(precision_score(y_test,y_pred,zero_division=0,average='macro'))\n",
        "recall.append(recall_score(y_test,y_pred,zero_division=0,average='macro'))\n",
        "accuracys.append(accuracy_score(y_test,y_pred))"
      ]
    },
    {
      "cell_type": "markdown",
      "metadata": {
        "id": "B2EL4ufCCAQ8"
      },
      "source": [
        "SVM Classifier with TFIDF"
      ]
    },
    {
      "cell_type": "code",
      "execution_count": 52,
      "metadata": {
        "id": "-bgyTM_kCAQ8",
        "colab": {
          "base_uri": "https://localhost:8080/"
        },
        "outputId": "1108ba7c-fbd1-48c5-a2d5-1f95f03e2d56"
      },
      "outputs": [
        {
          "output_type": "stream",
          "name": "stderr",
          "text": [
            "/usr/local/lib/python3.10/dist-packages/sklearn/svm/_base.py:299: ConvergenceWarning: Solver terminated early (max_iter=1000).  Consider pre-processing your data with StandardScaler or MinMaxScaler.\n",
            "  warnings.warn(\n"
          ]
        },
        {
          "output_type": "stream",
          "name": "stdout",
          "text": [
            "Accuracy: 0.76368\n"
          ]
        }
      ],
      "source": [
        "from sklearn import svm\n",
        "from sklearn.metrics import accuracy_score\n",
        "# Create an SVM classifier\n",
        "clf = svm.SVC(max_iter=1000)\n",
        "\n",
        "# Train the classifier\n",
        "clf.fit(X_train, y_train)\n",
        "\n",
        "# Make predictions on the test set\n",
        "y_pred = clf.predict(X_test)\n",
        "\n",
        "# Evaluate the accuracy\n",
        "accuracy = accuracy_score(y_test, y_pred)\n",
        "print(f\"Accuracy: {accuracy}\")"
      ]
    },
    {
      "cell_type": "code",
      "execution_count": 53,
      "metadata": {
        "id": "utqbOR06CAQ8",
        "colab": {
          "base_uri": "https://localhost:8080/"
        },
        "outputId": "b7264e42-ba26-4a5a-be90-ae049a1b5597"
      },
      "outputs": [
        {
          "output_type": "stream",
          "name": "stdout",
          "text": [
            "              precision    recall  f1-score   support\n",
            "\n",
            "           0       0.76      0.76      0.76      6250\n",
            "           1       0.76      0.76      0.76      6250\n",
            "\n",
            "    accuracy                           0.76     12500\n",
            "   macro avg       0.76      0.76      0.76     12500\n",
            "weighted avg       0.76      0.76      0.76     12500\n",
            "\n"
          ]
        }
      ],
      "source": [
        "# Performance measure\n",
        "from sklearn.metrics import confusion_matrix,classification_report\n",
        "\n",
        "cm = confusion_matrix(y_test,y_pred)\n",
        "\n",
        "print(classification_report(y_test, y_pred,zero_division=0))\n",
        "from sklearn.metrics import precision_score,recall_score,accuracy_score\n",
        "algorithm.append(\"Support Vector Machine with TFIDF\")\n",
        "precision.append(precision_score(y_test,y_pred,zero_division=0,average='macro'))\n",
        "recall.append(recall_score(y_test,y_pred,zero_division=0,average='macro'))\n",
        "accuracys.append(accuracy_score(y_test,y_pred))"
      ]
    },
    {
      "cell_type": "markdown",
      "metadata": {
        "id": "TafV_cp9CAQ9"
      },
      "source": [
        "Random Forest Classifier with TFIDF"
      ]
    },
    {
      "cell_type": "code",
      "execution_count": 54,
      "metadata": {
        "id": "A4eCxKNcCAQ9"
      },
      "outputs": [],
      "source": [
        "from sklearn.ensemble import RandomForestClassifier"
      ]
    },
    {
      "cell_type": "code",
      "execution_count": 55,
      "metadata": {
        "id": "NEUUOwPTCAQ9",
        "colab": {
          "base_uri": "https://localhost:8080/"
        },
        "outputId": "5343f56a-cb00-4973-8bd4-8048af1a4c27"
      },
      "outputs": [
        {
          "output_type": "stream",
          "name": "stdout",
          "text": [
            "Random Forest Accuracy: 0.83976\n",
            "              precision    recall  f1-score   support\n",
            "\n",
            "           0       0.83      0.86      0.84      6250\n",
            "           1       0.85      0.82      0.84      6250\n",
            "\n",
            "    accuracy                           0.84     12500\n",
            "   macro avg       0.84      0.84      0.84     12500\n",
            "weighted avg       0.84      0.84      0.84     12500\n",
            "\n"
          ]
        }
      ],
      "source": [
        "# Create a Random Forest classifier\n",
        "clf = RandomForestClassifier(n_estimators=50,random_state=100)\n",
        "# Train the classifier\n",
        "clf.fit(X_train, y_train)\n",
        "\n",
        "# Make predictions on the test set\n",
        "y_pred = clf.predict(X_test)\n",
        "\n",
        "# Evaluate the accuracy\n",
        "accuracy = accuracy_score(y_test, y_pred)\n",
        "print(f\"Random Forest Accuracy: {accuracy}\")\n",
        "cm = confusion_matrix(y_test,y_pred)\n",
        "\n",
        "print(classification_report(y_test, y_pred,zero_division=0))\n",
        "from sklearn.metrics import precision_score,recall_score,accuracy_score\n",
        "algorithm.append(\"Random Forest with TFIDF\")\n",
        "precision.append(precision_score(y_test,y_pred,zero_division=0,average='macro'))\n",
        "recall.append(recall_score(y_test,y_pred,zero_division=0,average='macro'))\n",
        "accuracys.append(accuracy_score(y_test,y_pred))"
      ]
    },
    {
      "cell_type": "markdown",
      "metadata": {
        "id": "1MOevNZgCAQ9"
      },
      "source": [
        "KNN Classifier with TFIDF"
      ]
    },
    {
      "cell_type": "code",
      "execution_count": 56,
      "metadata": {
        "id": "O8oznzN2CAQ9",
        "colab": {
          "base_uri": "https://localhost:8080/"
        },
        "outputId": "902d330c-92b1-4ff9-bfd8-fbbd8072214a"
      },
      "outputs": [
        {
          "output_type": "stream",
          "name": "stdout",
          "text": [
            "              precision    recall  f1-score   support\n",
            "\n",
            "           0       0.83      0.86      0.84      6250\n",
            "           1       0.85      0.82      0.84      6250\n",
            "\n",
            "    accuracy                           0.84     12500\n",
            "   macro avg       0.84      0.84      0.84     12500\n",
            "weighted avg       0.84      0.84      0.84     12500\n",
            "\n"
          ]
        }
      ],
      "source": [
        "from sklearn.neighbors import KNeighborsClassifier\n",
        "knn = KNeighborsClassifier(n_neighbors=10)\n",
        "\n",
        "knn.fit(X_train, y_train)\n",
        "\n",
        "# Performance measure\n",
        "from sklearn.metrics import confusion_matrix,classification_report\n",
        "\n",
        "cm = confusion_matrix(y_test,y_pred)\n",
        "\n",
        "print(classification_report(y_test, y_pred, zero_division=0))\n",
        "algorithm.append(\"KNN Classifier with TFIDF\")\n",
        "precision.append(precision_score(y_test,y_pred,zero_division=0,average='macro'))\n",
        "recall.append(recall_score(y_test,y_pred,zero_division=0,average='macro'))\n",
        "accuracys.append(accuracy_score(y_test,y_pred))"
      ]
    },
    {
      "cell_type": "markdown",
      "metadata": {
        "id": "HLuptpwkCAQ9"
      },
      "source": [
        "MultinomialNB(Navie Bayes) with TFIDF"
      ]
    },
    {
      "cell_type": "code",
      "execution_count": 57,
      "metadata": {
        "id": "hZuaZBEVCAQ9",
        "colab": {
          "base_uri": "https://localhost:8080/"
        },
        "outputId": "d0ce871d-b6cd-45cd-8178-aa5c3f952cba"
      },
      "outputs": [
        {
          "output_type": "stream",
          "name": "stdout",
          "text": [
            "Confusion Matrix:\n",
            " [[5304  946]\n",
            " [ 838 5412]]\n",
            "Classification Report:\n",
            "               precision    recall  f1-score   support\n",
            "\n",
            "           0       0.86      0.85      0.86      6250\n",
            "           1       0.85      0.87      0.86      6250\n",
            "\n",
            "    accuracy                           0.86     12500\n",
            "   macro avg       0.86      0.86      0.86     12500\n",
            "weighted avg       0.86      0.86      0.86     12500\n",
            "\n"
          ]
        }
      ],
      "source": [
        "from sklearn.naive_bayes import MultinomialNB\n",
        "from sklearn.metrics import confusion_matrix, classification_report\n",
        "\n",
        "nb_classifier = MultinomialNB()\n",
        "nb_classifier.fit(X_train, y_train)\n",
        "\n",
        "# Predictions on the test set\n",
        "y_pred = nb_classifier.predict(X_test)\n",
        "\n",
        "# Performance measures\n",
        "cm = confusion_matrix(y_test, y_pred)\n",
        "print(\"Confusion Matrix:\\n\", cm)\n",
        "\n",
        "# Classification Report\n",
        "print(\"Classification Report:\\n\", classification_report(y_test, y_pred, zero_division=0))\n",
        "algorithm.append(\"MultinomialNB with TFIDF\")\n",
        "precision.append(precision_score(y_test,y_pred,zero_division=0,average='macro'))\n",
        "recall.append(recall_score(y_test,y_pred,zero_division=0,average='macro'))\n",
        "accuracys.append(accuracy_score(y_test,y_pred))"
      ]
    },
    {
      "cell_type": "markdown",
      "metadata": {
        "id": "cVXNqmTpCAQ-"
      },
      "source": [
        "Using word2vec with TFIDF"
      ]
    },
    {
      "cell_type": "code",
      "execution_count": 58,
      "metadata": {
        "id": "7D4OwI77CAQ-"
      },
      "outputs": [],
      "source": [
        "import gensim"
      ]
    },
    {
      "cell_type": "code",
      "execution_count": 59,
      "metadata": {
        "id": "gmhkDjHjCAQ-"
      },
      "outputs": [],
      "source": [
        "import numpy as np"
      ]
    },
    {
      "cell_type": "code",
      "execution_count": 61,
      "metadata": {
        "id": "jnBaXTEHCAQ-"
      },
      "outputs": [],
      "source": [
        "model=gensim.models.keyedvectors.load_word2vec_format(\"/content/drive/MyDrive/NLP /GoogleNews-vectors-negative300 (1).bin\",binary=True)"
      ]
    },
    {
      "cell_type": "code",
      "execution_count": 62,
      "metadata": {
        "id": "xCwZQaZSCdvp"
      },
      "outputs": [],
      "source": [
        "vocab = model.key_to_index"
      ]
    },
    {
      "cell_type": "code",
      "source": [
        "from google.colab import drive\n",
        "drive.mount('/content/drive')"
      ],
      "metadata": {
        "colab": {
          "base_uri": "https://localhost:8080/"
        },
        "id": "l6-SDEKRaBdL",
        "outputId": "e8bcb27a-7927-4b5b-e38b-f0658d991c65"
      },
      "execution_count": 63,
      "outputs": [
        {
          "output_type": "stream",
          "name": "stdout",
          "text": [
            "Drive already mounted at /content/drive; to attempt to forcibly remount, call drive.mount(\"/content/drive\", force_remount=True).\n"
          ]
        }
      ]
    },
    {
      "cell_type": "code",
      "execution_count": 64,
      "metadata": {
        "id": "UR4I87GeRqnZ"
      },
      "outputs": [],
      "source": [
        "def embeddings(text):\n",
        "  DIM = 300\n",
        "  zero_vec = np.zeros(DIM)\n",
        "  features = []\n",
        "  for tokens in text:\n",
        "    feat = np.zeros(DIM)\n",
        "    count = 0 + 1e-5 #for DIV by 0 error\n",
        "    for token in tokens:\n",
        "      if token in model:\n",
        "        feat += model[token]\n",
        "        count += 1\n",
        "    if(count !=0):\n",
        "      features.append(feat/count)\n",
        "    else:\n",
        "      features.append(zero_vec)\n",
        "  return features"
      ]
    },
    {
      "cell_type": "code",
      "execution_count": 65,
      "metadata": {
        "id": "MrmSrKaHRrpj"
      },
      "outputs": [],
      "source": [
        "data['review'] = data['review'].apply(lambda x: ' '.join(map(str, x)))\n",
        "data['Combined_Text2'] = data['review']\n",
        "data_vec=embeddings(data['Combined_Text2'])"
      ]
    },
    {
      "cell_type": "code",
      "execution_count": 66,
      "metadata": {
        "id": "-zo4EaRDRr_Z",
        "colab": {
          "base_uri": "https://localhost:8080/"
        },
        "outputId": "bf39279a-ed61-4616-8feb-95921f20b750"
      },
      "outputs": [
        {
          "output_type": "stream",
          "name": "stdout",
          "text": [
            "50000\n"
          ]
        }
      ],
      "source": [
        "print(len(data_vec))"
      ]
    },
    {
      "cell_type": "code",
      "source": [
        "import pandas as pd\n",
        "from sklearn.preprocessing import LabelEncoder\n",
        "\n",
        "# Display the original DataFrame\n",
        "print(\"Original DataFrame:\")\n",
        "print(data)\n",
        "\n",
        "# Convert lists in the 'sentiment' column to strings\n",
        "data['sentiment'] = data['sentiment'].apply(lambda x: ', '.join(x) if isinstance(x, list) else x)\n",
        "\n",
        "# Initialize LabelEncoder\n",
        "label_encoder = LabelEncoder()\n",
        "\n",
        "# Fit label encoder and transform sentiment column\n",
        "data['encoded_sentiment'] = label_encoder.fit_transform(data['sentiment'])\n",
        "\n",
        "# Display the DataFrame with the encoded sentiment column\n",
        "print(\"\\nDataFrame with Encoded Sentiment:\")\n",
        "print(data)"
      ],
      "metadata": {
        "colab": {
          "base_uri": "https://localhost:8080/"
        },
        "id": "Ozr3tmIZrSr0",
        "outputId": "33900d58-1305-41bc-8526-cc3e357e3038"
      },
      "execution_count": 67,
      "outputs": [
        {
          "output_type": "stream",
          "name": "stdout",
          "text": [
            "Original DataFrame:\n",
            "                                                  review sentiment  \\\n",
            "0      o n e   o f   t h e   o t h e r   r e v i e w ...  positive   \n",
            "1      a   w o n d e r f u l   l i t t l e   p r o d ...  positive   \n",
            "2      i   t h o u g h t   t h i s   w a s   a   w o ...  positive   \n",
            "3      b a s i c a l l y   t h e r e s   a   f a m i ...  negative   \n",
            "4      p e t t e r   m a t t e i s   l o v e   i n   ...  positive   \n",
            "...                                                  ...       ...   \n",
            "49995  i   t h o u g h t   t h i s   m o v i e   d i ...  positive   \n",
            "49996  b a d   p l o t   b a d   d i a l o g u e   b ...  negative   \n",
            "49997  i   a m   a   c a t h o l i c   t a u g h t   ...  negative   \n",
            "49998  i m   g o i n g   t o   h a v e   t o   d i s ...  negative   \n",
            "49999  n o   o n e   e x p e c t s   t h e   s t a r ...  negative   \n",
            "\n",
            "                                          Combined_Text1  encoded_sentiment  \\\n",
            "0      one of the other reviewers has mentioned that ...                  1   \n",
            "1      a wonderful little production br br the filmin...                  1   \n",
            "2      i thought this was a wonderful way to spend ti...                  1   \n",
            "3      basically theres a family where a little boy j...                  0   \n",
            "4      petter matteis love in the time of money is a ...                  1   \n",
            "...                                                  ...                ...   \n",
            "49995  i thought this movie did a down right good job...                  1   \n",
            "49996  bad plot bad dialogue bad acting idiotic direc...                  0   \n",
            "49997  i am a catholic taught in parochial elementary...                  0   \n",
            "49998  im going to have to disagree with the previous...                  0   \n",
            "49999  no one expects the star trek movies to be high...                  0   \n",
            "\n",
            "                                          Combined_Text2  \n",
            "0      o n e   o f   t h e   o t h e r   r e v i e w ...  \n",
            "1      a   w o n d e r f u l   l i t t l e   p r o d ...  \n",
            "2      i   t h o u g h t   t h i s   w a s   a   w o ...  \n",
            "3      b a s i c a l l y   t h e r e s   a   f a m i ...  \n",
            "4      p e t t e r   m a t t e i s   l o v e   i n   ...  \n",
            "...                                                  ...  \n",
            "49995  i   t h o u g h t   t h i s   m o v i e   d i ...  \n",
            "49996  b a d   p l o t   b a d   d i a l o g u e   b ...  \n",
            "49997  i   a m   a   c a t h o l i c   t a u g h t   ...  \n",
            "49998  i m   g o i n g   t o   h a v e   t o   d i s ...  \n",
            "49999  n o   o n e   e x p e c t s   t h e   s t a r ...  \n",
            "\n",
            "[50000 rows x 5 columns]\n",
            "\n",
            "DataFrame with Encoded Sentiment:\n",
            "                                                  review sentiment  \\\n",
            "0      o n e   o f   t h e   o t h e r   r e v i e w ...  positive   \n",
            "1      a   w o n d e r f u l   l i t t l e   p r o d ...  positive   \n",
            "2      i   t h o u g h t   t h i s   w a s   a   w o ...  positive   \n",
            "3      b a s i c a l l y   t h e r e s   a   f a m i ...  negative   \n",
            "4      p e t t e r   m a t t e i s   l o v e   i n   ...  positive   \n",
            "...                                                  ...       ...   \n",
            "49995  i   t h o u g h t   t h i s   m o v i e   d i ...  positive   \n",
            "49996  b a d   p l o t   b a d   d i a l o g u e   b ...  negative   \n",
            "49997  i   a m   a   c a t h o l i c   t a u g h t   ...  negative   \n",
            "49998  i m   g o i n g   t o   h a v e   t o   d i s ...  negative   \n",
            "49999  n o   o n e   e x p e c t s   t h e   s t a r ...  negative   \n",
            "\n",
            "                                          Combined_Text1  encoded_sentiment  \\\n",
            "0      one of the other reviewers has mentioned that ...                  1   \n",
            "1      a wonderful little production br br the filmin...                  1   \n",
            "2      i thought this was a wonderful way to spend ti...                  1   \n",
            "3      basically theres a family where a little boy j...                  0   \n",
            "4      petter matteis love in the time of money is a ...                  1   \n",
            "...                                                  ...                ...   \n",
            "49995  i thought this movie did a down right good job...                  1   \n",
            "49996  bad plot bad dialogue bad acting idiotic direc...                  0   \n",
            "49997  i am a catholic taught in parochial elementary...                  0   \n",
            "49998  im going to have to disagree with the previous...                  0   \n",
            "49999  no one expects the star trek movies to be high...                  0   \n",
            "\n",
            "                                          Combined_Text2  \n",
            "0      o n e   o f   t h e   o t h e r   r e v i e w ...  \n",
            "1      a   w o n d e r f u l   l i t t l e   p r o d ...  \n",
            "2      i   t h o u g h t   t h i s   w a s   a   w o ...  \n",
            "3      b a s i c a l l y   t h e r e s   a   f a m i ...  \n",
            "4      p e t t e r   m a t t e i s   l o v e   i n   ...  \n",
            "...                                                  ...  \n",
            "49995  i   t h o u g h t   t h i s   m o v i e   d i ...  \n",
            "49996  b a d   p l o t   b a d   d i a l o g u e   b ...  \n",
            "49997  i   a m   a   c a t h o l i c   t a u g h t   ...  \n",
            "49998  i m   g o i n g   t o   h a v e   t o   d i s ...  \n",
            "49999  n o   o n e   e x p e c t s   t h e   s t a r ...  \n",
            "\n",
            "[50000 rows x 5 columns]\n"
          ]
        }
      ]
    },
    {
      "cell_type": "code",
      "execution_count": 69,
      "metadata": {
        "id": "H2F03SDoRtsK"
      },
      "outputs": [],
      "source": [
        "# Train-test split of the reduced data\n",
        "X_train, X_test, y_train, y_test = train_test_split(data_vec,\n",
        "                                                    data['encoded_sentiment'],\n",
        "                                                    stratify=data['encoded_sentiment'],\n",
        "                                                    random_state=1)"
      ]
    },
    {
      "cell_type": "markdown",
      "metadata": {
        "id": "X0NKs_H5Samu"
      },
      "source": [
        "Logistic Regression using Word2vec"
      ]
    },
    {
      "cell_type": "code",
      "execution_count": 70,
      "metadata": {
        "id": "VBt3DgMaRyCR",
        "colab": {
          "base_uri": "https://localhost:8080/"
        },
        "outputId": "f753863d-8bfe-473d-de41-7d84684e0b7b"
      },
      "outputs": [
        {
          "output_type": "stream",
          "name": "stdout",
          "text": [
            "              precision    recall  f1-score   support\n",
            "\n",
            "           0       0.61      0.60      0.61      6250\n",
            "           1       0.61      0.62      0.61      6250\n",
            "\n",
            "    accuracy                           0.61     12500\n",
            "   macro avg       0.61      0.61      0.61     12500\n",
            "weighted avg       0.61      0.61      0.61     12500\n",
            "\n",
            "              precision    recall  f1-score   support\n",
            "\n",
            "           0       0.61      0.60      0.61      6250\n",
            "           1       0.61      0.62      0.61      6250\n",
            "\n",
            "    accuracy                           0.61     12500\n",
            "   macro avg       0.61      0.61      0.61     12500\n",
            "weighted avg       0.61      0.61      0.61     12500\n",
            "\n"
          ]
        }
      ],
      "source": [
        "# Classifier\n",
        "clf = LogisticRegression(penalty= 'elasticnet', solver= 'saga',\n",
        "                         l1_ratio=0.5, random_state=1).fit(X_train,y_train)\n",
        "\n",
        "y_pred = clf.predict(X_test)\n",
        "# Performance measure\n",
        "from sklearn.metrics import confusion_matrix,classification_report\n",
        "\n",
        "cm = confusion_matrix(y_test,y_pred)\n",
        "\n",
        "print(classification_report(y_test, y_pred,zero_division=0))\n",
        "cm=confusion_matrix(y_test,y_pred)\n",
        "print(classification_report(y_test,y_pred,zero_division=0))\n",
        "from sklearn.metrics import precision_score,recall_score,accuracy_score\n",
        "algorithm.append(\"Logistic Regression with  Word2vec\")\n",
        "precision.append(precision_score(y_test,y_pred,zero_division=0,average='macro'))\n",
        "recall.append(recall_score(y_test,y_pred,zero_division=0,average='macro'))\n"
      ]
    },
    {
      "cell_type": "code",
      "execution_count": 71,
      "metadata": {
        "id": "Wk0HnzwEZE9I"
      },
      "outputs": [],
      "source": [
        "accuracys.append(accuracy_score(y_test,y_pred))"
      ]
    },
    {
      "cell_type": "markdown",
      "metadata": {
        "id": "uqQ6RiO5SeR6"
      },
      "source": [
        "SVM using Word2vec"
      ]
    },
    {
      "cell_type": "code",
      "execution_count": 72,
      "metadata": {
        "id": "PKhUF0kJShZJ",
        "colab": {
          "base_uri": "https://localhost:8080/"
        },
        "outputId": "99b61c2a-a532-47f7-f56e-d0fdc036331e"
      },
      "outputs": [
        {
          "output_type": "stream",
          "name": "stderr",
          "text": [
            "/usr/local/lib/python3.10/dist-packages/sklearn/svm/_base.py:299: ConvergenceWarning: Solver terminated early (max_iter=1000).  Consider pre-processing your data with StandardScaler or MinMaxScaler.\n",
            "  warnings.warn(\n"
          ]
        },
        {
          "output_type": "stream",
          "name": "stdout",
          "text": [
            "Accuracy: 0.49936\n",
            "              precision    recall  f1-score   support\n",
            "\n",
            "           0       0.37      0.00      0.00      6250\n",
            "           1       0.50      1.00      0.67      6250\n",
            "\n",
            "    accuracy                           0.50     12500\n",
            "   macro avg       0.43      0.50      0.33     12500\n",
            "weighted avg       0.43      0.50      0.33     12500\n",
            "\n",
            "              precision    recall  f1-score   support\n",
            "\n",
            "           0       0.37      0.00      0.00      6250\n",
            "           1       0.50      1.00      0.67      6250\n",
            "\n",
            "    accuracy                           0.50     12500\n",
            "   macro avg       0.43      0.50      0.33     12500\n",
            "weighted avg       0.43      0.50      0.33     12500\n",
            "\n"
          ]
        }
      ],
      "source": [
        "from sklearn import svm\n",
        "from sklearn.metrics import accuracy_score\n",
        "# Create an SVM classifier\n",
        "clf = svm.SVC(max_iter=1000)\n",
        "\n",
        "# Train the classifier\n",
        "clf.fit(X_train, y_train)\n",
        "\n",
        "# Make predictions on the test set\n",
        "y_pred = clf.predict(X_test)\n",
        "\n",
        "# Evaluate the accuracy\n",
        "accuracy = accuracy_score(y_test, y_pred)\n",
        "print(f\"Accuracy: {accuracy}\")\n",
        "print(classification_report(y_test, y_pred,zero_division=0))\n",
        "cm=confusion_matrix(y_test,y_pred)\n",
        "print(classification_report(y_test,y_pred,zero_division=0))\n",
        "from sklearn.metrics import precision_score,recall_score,accuracy_score\n",
        "algorithm.append(\"SVM with Word2Vec\")\n",
        "precision.append(precision_score(y_test,y_pred,zero_division=0,average='macro'))\n",
        "recall.append(recall_score(y_test,y_pred,zero_division=0,average='macro'))\n",
        "accuracys.append(accuracy_score(y_test,y_pred))\n"
      ]
    },
    {
      "cell_type": "markdown",
      "metadata": {
        "id": "Z6v_-iuLShKZ"
      },
      "source": [
        "Random Forest using Word2vec"
      ]
    },
    {
      "cell_type": "code",
      "execution_count": 73,
      "metadata": {
        "id": "MGlgl6RYYkoT",
        "colab": {
          "base_uri": "https://localhost:8080/"
        },
        "outputId": "be970c26-3e5b-413f-8f9c-b93f030030c8"
      },
      "outputs": [
        {
          "output_type": "stream",
          "name": "stdout",
          "text": [
            "Random Forest Accuracy: 0.60056\n",
            "              precision    recall  f1-score   support\n",
            "\n",
            "           0       0.59      0.63      0.61      6250\n",
            "           1       0.61      0.57      0.59      6250\n",
            "\n",
            "    accuracy                           0.60     12500\n",
            "   macro avg       0.60      0.60      0.60     12500\n",
            "weighted avg       0.60      0.60      0.60     12500\n",
            "\n"
          ]
        }
      ],
      "source": [
        "# Create a Random Forest classifier\n",
        "clf = RandomForestClassifier(n_estimators=50,random_state=100)\n",
        "# Train the classifier\n",
        "clf.fit(X_train, y_train)\n",
        "\n",
        "# Make predictions on the test set\n",
        "y_pred = clf.predict(X_test)\n",
        "\n",
        "# Evaluate the accuracy\n",
        "accuracy = accuracy_score(y_test, y_pred)\n",
        "print(f\"Random Forest Accuracy: {accuracy}\")\n",
        "cm = confusion_matrix(y_test,y_pred)\n",
        "\n",
        "print(classification_report(y_test, y_pred,zero_division=0))\n",
        "from sklearn.metrics import precision_score,recall_score,accuracy_score\n",
        "algorithm.append(\"Random Forest with  Word2vec\")\n",
        "precision.append(precision_score(y_test,y_pred,zero_division=0,average='macro'))\n",
        "recall.append(recall_score(y_test,y_pred,zero_division=0,average='macro'))\n",
        "accuracys.append(accuracy_score(y_test,y_pred))"
      ]
    },
    {
      "cell_type": "code",
      "execution_count": 74,
      "metadata": {
        "id": "bnwcl7fGgOIy"
      },
      "outputs": [],
      "source": [
        "df = pd.DataFrame({'algorithm':algorithm,'Precision': precision,'Recall': recall,'Accuracy': accuracys})"
      ]
    },
    {
      "cell_type": "code",
      "execution_count": 75,
      "metadata": {
        "id": "JEC3UWGygqif",
        "colab": {
          "base_uri": "https://localhost:8080/",
          "height": 394
        },
        "outputId": "c1a31a78-b853-43a9-cbb2-952bf5b0fdb6"
      },
      "outputs": [
        {
          "output_type": "execute_result",
          "data": {
            "text/plain": [
              "                                   algorithm  Precision   Recall  Accuracy\n",
              "0   Logistic Regression with CountVectorizer   0.868960  0.86896   0.86896\n",
              "1                   SVM with CountVectorizer   0.855202  0.84944   0.84944\n",
              "2         Random Forest with CountVectorizer   0.839060  0.83872   0.83872\n",
              "3             Logistic Regression with TFIDF   0.886901  0.88680   0.88680\n",
              "4          Support Vector Machine with TFIDF   0.763682  0.76368   0.76368\n",
              "5                   Random Forest with TFIDF   0.840148  0.83976   0.83976\n",
              "6                  KNN Classifier with TFIDF   0.840148  0.83976   0.83976\n",
              "7                   MultinomialNB with TFIDF   0.857387  0.85728   0.85728\n",
              "8         Logistic Regression with  Word2vec   0.610261  0.61024   0.61024\n",
              "9                          SVM with Word2Vec   0.433173  0.49936   0.49936\n",
              "10              Random Forest with  Word2vec   0.600963  0.60056   0.60056"
            ],
            "text/html": [
              "\n",
              "  <div id=\"df-939cf3ae-83c2-4603-9456-c214a155d299\" class=\"colab-df-container\">\n",
              "    <div>\n",
              "<style scoped>\n",
              "    .dataframe tbody tr th:only-of-type {\n",
              "        vertical-align: middle;\n",
              "    }\n",
              "\n",
              "    .dataframe tbody tr th {\n",
              "        vertical-align: top;\n",
              "    }\n",
              "\n",
              "    .dataframe thead th {\n",
              "        text-align: right;\n",
              "    }\n",
              "</style>\n",
              "<table border=\"1\" class=\"dataframe\">\n",
              "  <thead>\n",
              "    <tr style=\"text-align: right;\">\n",
              "      <th></th>\n",
              "      <th>algorithm</th>\n",
              "      <th>Precision</th>\n",
              "      <th>Recall</th>\n",
              "      <th>Accuracy</th>\n",
              "    </tr>\n",
              "  </thead>\n",
              "  <tbody>\n",
              "    <tr>\n",
              "      <th>0</th>\n",
              "      <td>Logistic Regression with CountVectorizer</td>\n",
              "      <td>0.868960</td>\n",
              "      <td>0.86896</td>\n",
              "      <td>0.86896</td>\n",
              "    </tr>\n",
              "    <tr>\n",
              "      <th>1</th>\n",
              "      <td>SVM with CountVectorizer</td>\n",
              "      <td>0.855202</td>\n",
              "      <td>0.84944</td>\n",
              "      <td>0.84944</td>\n",
              "    </tr>\n",
              "    <tr>\n",
              "      <th>2</th>\n",
              "      <td>Random Forest with CountVectorizer</td>\n",
              "      <td>0.839060</td>\n",
              "      <td>0.83872</td>\n",
              "      <td>0.83872</td>\n",
              "    </tr>\n",
              "    <tr>\n",
              "      <th>3</th>\n",
              "      <td>Logistic Regression with TFIDF</td>\n",
              "      <td>0.886901</td>\n",
              "      <td>0.88680</td>\n",
              "      <td>0.88680</td>\n",
              "    </tr>\n",
              "    <tr>\n",
              "      <th>4</th>\n",
              "      <td>Support Vector Machine with TFIDF</td>\n",
              "      <td>0.763682</td>\n",
              "      <td>0.76368</td>\n",
              "      <td>0.76368</td>\n",
              "    </tr>\n",
              "    <tr>\n",
              "      <th>5</th>\n",
              "      <td>Random Forest with TFIDF</td>\n",
              "      <td>0.840148</td>\n",
              "      <td>0.83976</td>\n",
              "      <td>0.83976</td>\n",
              "    </tr>\n",
              "    <tr>\n",
              "      <th>6</th>\n",
              "      <td>KNN Classifier with TFIDF</td>\n",
              "      <td>0.840148</td>\n",
              "      <td>0.83976</td>\n",
              "      <td>0.83976</td>\n",
              "    </tr>\n",
              "    <tr>\n",
              "      <th>7</th>\n",
              "      <td>MultinomialNB with TFIDF</td>\n",
              "      <td>0.857387</td>\n",
              "      <td>0.85728</td>\n",
              "      <td>0.85728</td>\n",
              "    </tr>\n",
              "    <tr>\n",
              "      <th>8</th>\n",
              "      <td>Logistic Regression with  Word2vec</td>\n",
              "      <td>0.610261</td>\n",
              "      <td>0.61024</td>\n",
              "      <td>0.61024</td>\n",
              "    </tr>\n",
              "    <tr>\n",
              "      <th>9</th>\n",
              "      <td>SVM with Word2Vec</td>\n",
              "      <td>0.433173</td>\n",
              "      <td>0.49936</td>\n",
              "      <td>0.49936</td>\n",
              "    </tr>\n",
              "    <tr>\n",
              "      <th>10</th>\n",
              "      <td>Random Forest with  Word2vec</td>\n",
              "      <td>0.600963</td>\n",
              "      <td>0.60056</td>\n",
              "      <td>0.60056</td>\n",
              "    </tr>\n",
              "  </tbody>\n",
              "</table>\n",
              "</div>\n",
              "    <div class=\"colab-df-buttons\">\n",
              "\n",
              "  <div class=\"colab-df-container\">\n",
              "    <button class=\"colab-df-convert\" onclick=\"convertToInteractive('df-939cf3ae-83c2-4603-9456-c214a155d299')\"\n",
              "            title=\"Convert this dataframe to an interactive table.\"\n",
              "            style=\"display:none;\">\n",
              "\n",
              "  <svg xmlns=\"http://www.w3.org/2000/svg\" height=\"24px\" viewBox=\"0 -960 960 960\">\n",
              "    <path d=\"M120-120v-720h720v720H120Zm60-500h600v-160H180v160Zm220 220h160v-160H400v160Zm0 220h160v-160H400v160ZM180-400h160v-160H180v160Zm440 0h160v-160H620v160ZM180-180h160v-160H180v160Zm440 0h160v-160H620v160Z\"/>\n",
              "  </svg>\n",
              "    </button>\n",
              "\n",
              "  <style>\n",
              "    .colab-df-container {\n",
              "      display:flex;\n",
              "      gap: 12px;\n",
              "    }\n",
              "\n",
              "    .colab-df-convert {\n",
              "      background-color: #E8F0FE;\n",
              "      border: none;\n",
              "      border-radius: 50%;\n",
              "      cursor: pointer;\n",
              "      display: none;\n",
              "      fill: #1967D2;\n",
              "      height: 32px;\n",
              "      padding: 0 0 0 0;\n",
              "      width: 32px;\n",
              "    }\n",
              "\n",
              "    .colab-df-convert:hover {\n",
              "      background-color: #E2EBFA;\n",
              "      box-shadow: 0px 1px 2px rgba(60, 64, 67, 0.3), 0px 1px 3px 1px rgba(60, 64, 67, 0.15);\n",
              "      fill: #174EA6;\n",
              "    }\n",
              "\n",
              "    .colab-df-buttons div {\n",
              "      margin-bottom: 4px;\n",
              "    }\n",
              "\n",
              "    [theme=dark] .colab-df-convert {\n",
              "      background-color: #3B4455;\n",
              "      fill: #D2E3FC;\n",
              "    }\n",
              "\n",
              "    [theme=dark] .colab-df-convert:hover {\n",
              "      background-color: #434B5C;\n",
              "      box-shadow: 0px 1px 3px 1px rgba(0, 0, 0, 0.15);\n",
              "      filter: drop-shadow(0px 1px 2px rgba(0, 0, 0, 0.3));\n",
              "      fill: #FFFFFF;\n",
              "    }\n",
              "  </style>\n",
              "\n",
              "    <script>\n",
              "      const buttonEl =\n",
              "        document.querySelector('#df-939cf3ae-83c2-4603-9456-c214a155d299 button.colab-df-convert');\n",
              "      buttonEl.style.display =\n",
              "        google.colab.kernel.accessAllowed ? 'block' : 'none';\n",
              "\n",
              "      async function convertToInteractive(key) {\n",
              "        const element = document.querySelector('#df-939cf3ae-83c2-4603-9456-c214a155d299');\n",
              "        const dataTable =\n",
              "          await google.colab.kernel.invokeFunction('convertToInteractive',\n",
              "                                                    [key], {});\n",
              "        if (!dataTable) return;\n",
              "\n",
              "        const docLinkHtml = 'Like what you see? Visit the ' +\n",
              "          '<a target=\"_blank\" href=https://colab.research.google.com/notebooks/data_table.ipynb>data table notebook</a>'\n",
              "          + ' to learn more about interactive tables.';\n",
              "        element.innerHTML = '';\n",
              "        dataTable['output_type'] = 'display_data';\n",
              "        await google.colab.output.renderOutput(dataTable, element);\n",
              "        const docLink = document.createElement('div');\n",
              "        docLink.innerHTML = docLinkHtml;\n",
              "        element.appendChild(docLink);\n",
              "      }\n",
              "    </script>\n",
              "  </div>\n",
              "\n",
              "\n",
              "<div id=\"df-a21b53b8-77e2-48ba-9ef9-e638437d8ac7\">\n",
              "  <button class=\"colab-df-quickchart\" onclick=\"quickchart('df-a21b53b8-77e2-48ba-9ef9-e638437d8ac7')\"\n",
              "            title=\"Suggest charts\"\n",
              "            style=\"display:none;\">\n",
              "\n",
              "<svg xmlns=\"http://www.w3.org/2000/svg\" height=\"24px\"viewBox=\"0 0 24 24\"\n",
              "     width=\"24px\">\n",
              "    <g>\n",
              "        <path d=\"M19 3H5c-1.1 0-2 .9-2 2v14c0 1.1.9 2 2 2h14c1.1 0 2-.9 2-2V5c0-1.1-.9-2-2-2zM9 17H7v-7h2v7zm4 0h-2V7h2v10zm4 0h-2v-4h2v4z\"/>\n",
              "    </g>\n",
              "</svg>\n",
              "  </button>\n",
              "\n",
              "<style>\n",
              "  .colab-df-quickchart {\n",
              "      --bg-color: #E8F0FE;\n",
              "      --fill-color: #1967D2;\n",
              "      --hover-bg-color: #E2EBFA;\n",
              "      --hover-fill-color: #174EA6;\n",
              "      --disabled-fill-color: #AAA;\n",
              "      --disabled-bg-color: #DDD;\n",
              "  }\n",
              "\n",
              "  [theme=dark] .colab-df-quickchart {\n",
              "      --bg-color: #3B4455;\n",
              "      --fill-color: #D2E3FC;\n",
              "      --hover-bg-color: #434B5C;\n",
              "      --hover-fill-color: #FFFFFF;\n",
              "      --disabled-bg-color: #3B4455;\n",
              "      --disabled-fill-color: #666;\n",
              "  }\n",
              "\n",
              "  .colab-df-quickchart {\n",
              "    background-color: var(--bg-color);\n",
              "    border: none;\n",
              "    border-radius: 50%;\n",
              "    cursor: pointer;\n",
              "    display: none;\n",
              "    fill: var(--fill-color);\n",
              "    height: 32px;\n",
              "    padding: 0;\n",
              "    width: 32px;\n",
              "  }\n",
              "\n",
              "  .colab-df-quickchart:hover {\n",
              "    background-color: var(--hover-bg-color);\n",
              "    box-shadow: 0 1px 2px rgba(60, 64, 67, 0.3), 0 1px 3px 1px rgba(60, 64, 67, 0.15);\n",
              "    fill: var(--button-hover-fill-color);\n",
              "  }\n",
              "\n",
              "  .colab-df-quickchart-complete:disabled,\n",
              "  .colab-df-quickchart-complete:disabled:hover {\n",
              "    background-color: var(--disabled-bg-color);\n",
              "    fill: var(--disabled-fill-color);\n",
              "    box-shadow: none;\n",
              "  }\n",
              "\n",
              "  .colab-df-spinner {\n",
              "    border: 2px solid var(--fill-color);\n",
              "    border-color: transparent;\n",
              "    border-bottom-color: var(--fill-color);\n",
              "    animation:\n",
              "      spin 1s steps(1) infinite;\n",
              "  }\n",
              "\n",
              "  @keyframes spin {\n",
              "    0% {\n",
              "      border-color: transparent;\n",
              "      border-bottom-color: var(--fill-color);\n",
              "      border-left-color: var(--fill-color);\n",
              "    }\n",
              "    20% {\n",
              "      border-color: transparent;\n",
              "      border-left-color: var(--fill-color);\n",
              "      border-top-color: var(--fill-color);\n",
              "    }\n",
              "    30% {\n",
              "      border-color: transparent;\n",
              "      border-left-color: var(--fill-color);\n",
              "      border-top-color: var(--fill-color);\n",
              "      border-right-color: var(--fill-color);\n",
              "    }\n",
              "    40% {\n",
              "      border-color: transparent;\n",
              "      border-right-color: var(--fill-color);\n",
              "      border-top-color: var(--fill-color);\n",
              "    }\n",
              "    60% {\n",
              "      border-color: transparent;\n",
              "      border-right-color: var(--fill-color);\n",
              "    }\n",
              "    80% {\n",
              "      border-color: transparent;\n",
              "      border-right-color: var(--fill-color);\n",
              "      border-bottom-color: var(--fill-color);\n",
              "    }\n",
              "    90% {\n",
              "      border-color: transparent;\n",
              "      border-bottom-color: var(--fill-color);\n",
              "    }\n",
              "  }\n",
              "</style>\n",
              "\n",
              "  <script>\n",
              "    async function quickchart(key) {\n",
              "      const quickchartButtonEl =\n",
              "        document.querySelector('#' + key + ' button');\n",
              "      quickchartButtonEl.disabled = true;  // To prevent multiple clicks.\n",
              "      quickchartButtonEl.classList.add('colab-df-spinner');\n",
              "      try {\n",
              "        const charts = await google.colab.kernel.invokeFunction(\n",
              "            'suggestCharts', [key], {});\n",
              "      } catch (error) {\n",
              "        console.error('Error during call to suggestCharts:', error);\n",
              "      }\n",
              "      quickchartButtonEl.classList.remove('colab-df-spinner');\n",
              "      quickchartButtonEl.classList.add('colab-df-quickchart-complete');\n",
              "    }\n",
              "    (() => {\n",
              "      let quickchartButtonEl =\n",
              "        document.querySelector('#df-a21b53b8-77e2-48ba-9ef9-e638437d8ac7 button');\n",
              "      quickchartButtonEl.style.display =\n",
              "        google.colab.kernel.accessAllowed ? 'block' : 'none';\n",
              "    })();\n",
              "  </script>\n",
              "</div>\n",
              "    </div>\n",
              "  </div>\n"
            ]
          },
          "metadata": {},
          "execution_count": 75
        }
      ],
      "source": [
        "df"
      ]
    },
    {
      "cell_type": "code",
      "source": [],
      "metadata": {
        "id": "VNv9xX02qxFm"
      },
      "execution_count": null,
      "outputs": []
    }
  ],
  "metadata": {
    "colab": {
      "provenance": []
    },
    "kaggle": {
      "accelerator": "gpu",
      "dataSources": [
        {
          "datasetId": 612351,
          "sourceId": 1095715,
          "sourceType": "datasetVersion"
        }
      ],
      "dockerImageVersionId": 30648,
      "isGpuEnabled": true,
      "isInternetEnabled": true,
      "language": "python",
      "sourceType": "notebook"
    },
    "kernelspec": {
      "display_name": "Python 3",
      "language": "python",
      "name": "python3"
    },
    "language_info": {
      "codemirror_mode": {
        "name": "ipython",
        "version": 3
      },
      "file_extension": ".py",
      "mimetype": "text/x-python",
      "name": "python",
      "nbconvert_exporter": "python",
      "pygments_lexer": "ipython3",
      "version": "3.10.13"
    }
  },
  "nbformat": 4,
  "nbformat_minor": 0
}